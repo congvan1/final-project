{
 "cells": [
  {
   "cell_type": "code",
   "execution_count": 1,
   "metadata": {},
   "outputs": [],
   "source": [
    "import numpy as np\n",
    "import pandas as pd\n",
    "import matplotlib.pyplot as plt\n",
    "import seaborn as sns\n",
    "from scipy.signal import savgol_filter\n",
    "import numpy as np\n",
    "import pandas as pd\n",
    "import matplotlib.pyplot as plt\n",
    "import seaborn as sns\n",
    "import re\n",
    "\n",
    "from sklearn import metrics\n",
    "from sklearn import preprocessing\n",
    "from sklearn.model_selection import train_test_split\n",
    "from sklearn.cross_decomposition import PLSRegression\n",
    "from sklearn.metrics import accuracy_score\n",
    "import json\n",
    "import csv"
   ]
  },
  {
   "cell_type": "code",
   "execution_count": 2,
   "metadata": {},
   "outputs": [],
   "source": [
    "N_WAVELENGTH = 228\n",
    "LOD_HISTAMINE = 100\n",
    "NAME_COLUMNS_HISTAMINE ='Histamine\\n(mg/kg)'"
   ]
  },
  {
   "cell_type": "code",
   "execution_count": 3,
   "metadata": {},
   "outputs": [
    {
     "data": {
      "text/html": [
       "<div>\n",
       "<style scoped>\n",
       "    .dataframe tbody tr th:only-of-type {\n",
       "        vertical-align: middle;\n",
       "    }\n",
       "\n",
       "    .dataframe tbody tr th {\n",
       "        vertical-align: top;\n",
       "    }\n",
       "\n",
       "    .dataframe thead th {\n",
       "        text-align: right;\n",
       "    }\n",
       "</style>\n",
       "<table border=\"1\" class=\"dataframe\">\n",
       "  <thead>\n",
       "    <tr style=\"text-align: right;\">\n",
       "      <th></th>\n",
       "      <th>Mã mẫu NIRS</th>\n",
       "      <th>Nhóm đo</th>\n",
       "      <th>Chỉ tiêu đo</th>\n",
       "      <th>Loại cá</th>\n",
       "      <th>Địa điểm lấy mẫu</th>\n",
       "      <th>STT mẫu cá</th>\n",
       "      <th>Vị trí đo</th>\n",
       "      <th>Lần lặp</th>\n",
       "      <th>Phương pháp đo</th>\n",
       "      <th>Ngày đo</th>\n",
       "      <th>...</th>\n",
       "      <th>219</th>\n",
       "      <th>220</th>\n",
       "      <th>221</th>\n",
       "      <th>222</th>\n",
       "      <th>223</th>\n",
       "      <th>224</th>\n",
       "      <th>225</th>\n",
       "      <th>226</th>\n",
       "      <th>227</th>\n",
       "      <th>228</th>\n",
       "    </tr>\n",
       "  </thead>\n",
       "  <tbody>\n",
       "    <tr>\n",
       "      <th>0</th>\n",
       "      <td>2231001a1</td>\n",
       "      <td>Đà Nẵng</td>\n",
       "      <td>Histamine</td>\n",
       "      <td>Ngừ 1</td>\n",
       "      <td>Cảng cá</td>\n",
       "      <td>1</td>\n",
       "      <td>Ngoài da, gáy</td>\n",
       "      <td>1</td>\n",
       "      <td>Hadamard 1</td>\n",
       "      <td>13/11/21</td>\n",
       "      <td>...</td>\n",
       "      <td>1.260815</td>\n",
       "      <td>1.255657</td>\n",
       "      <td>1.276434</td>\n",
       "      <td>1.322620</td>\n",
       "      <td>1.304198</td>\n",
       "      <td>1.285766</td>\n",
       "      <td>1.306818</td>\n",
       "      <td>1.267184</td>\n",
       "      <td>1.411523</td>\n",
       "      <td>1.352860</td>\n",
       "    </tr>\n",
       "    <tr>\n",
       "      <th>1</th>\n",
       "      <td>2231001a2</td>\n",
       "      <td>Đà Nẵng</td>\n",
       "      <td>Histamine</td>\n",
       "      <td>Ngừ 1</td>\n",
       "      <td>Cảng cá</td>\n",
       "      <td>1</td>\n",
       "      <td>Ngoài da, gáy</td>\n",
       "      <td>2</td>\n",
       "      <td>Hadamard 1</td>\n",
       "      <td>13/11/21</td>\n",
       "      <td>...</td>\n",
       "      <td>1.213489</td>\n",
       "      <td>1.231890</td>\n",
       "      <td>1.313393</td>\n",
       "      <td>1.314022</td>\n",
       "      <td>1.395009</td>\n",
       "      <td>1.452664</td>\n",
       "      <td>1.381067</td>\n",
       "      <td>1.484528</td>\n",
       "      <td>1.253933</td>\n",
       "      <td>1.233967</td>\n",
       "    </tr>\n",
       "    <tr>\n",
       "      <th>2</th>\n",
       "      <td>2231001a3</td>\n",
       "      <td>Đà Nẵng</td>\n",
       "      <td>Histamine</td>\n",
       "      <td>Ngừ 1</td>\n",
       "      <td>Cảng cá</td>\n",
       "      <td>1</td>\n",
       "      <td>Ngoài da, gáy</td>\n",
       "      <td>3</td>\n",
       "      <td>Hadamard 1</td>\n",
       "      <td>13/11/21</td>\n",
       "      <td>...</td>\n",
       "      <td>1.219571</td>\n",
       "      <td>1.272744</td>\n",
       "      <td>1.342526</td>\n",
       "      <td>1.342042</td>\n",
       "      <td>1.482628</td>\n",
       "      <td>1.419886</td>\n",
       "      <td>1.392945</td>\n",
       "      <td>1.367681</td>\n",
       "      <td>1.254773</td>\n",
       "      <td>1.268085</td>\n",
       "    </tr>\n",
       "    <tr>\n",
       "      <th>3</th>\n",
       "      <td>2231001a4</td>\n",
       "      <td>Đà Nẵng</td>\n",
       "      <td>Histamine</td>\n",
       "      <td>Ngừ 1</td>\n",
       "      <td>Cảng cá</td>\n",
       "      <td>1</td>\n",
       "      <td>Ngoài da, gáy</td>\n",
       "      <td>4</td>\n",
       "      <td>Hadamard 1</td>\n",
       "      <td>13/11/21</td>\n",
       "      <td>...</td>\n",
       "      <td>1.233272</td>\n",
       "      <td>1.338020</td>\n",
       "      <td>1.459565</td>\n",
       "      <td>1.392858</td>\n",
       "      <td>1.357045</td>\n",
       "      <td>1.388063</td>\n",
       "      <td>1.224139</td>\n",
       "      <td>1.248838</td>\n",
       "      <td>1.209269</td>\n",
       "      <td>1.289710</td>\n",
       "    </tr>\n",
       "    <tr>\n",
       "      <th>4</th>\n",
       "      <td>2231001a5</td>\n",
       "      <td>Đà Nẵng</td>\n",
       "      <td>Histamine</td>\n",
       "      <td>Ngừ 1</td>\n",
       "      <td>Cảng cá</td>\n",
       "      <td>1</td>\n",
       "      <td>Ngoài da, gáy</td>\n",
       "      <td>5</td>\n",
       "      <td>Hadamard 1</td>\n",
       "      <td>13/11/21</td>\n",
       "      <td>...</td>\n",
       "      <td>1.293733</td>\n",
       "      <td>1.310010</td>\n",
       "      <td>1.346611</td>\n",
       "      <td>1.232961</td>\n",
       "      <td>1.253616</td>\n",
       "      <td>1.209367</td>\n",
       "      <td>1.164405</td>\n",
       "      <td>1.251315</td>\n",
       "      <td>1.179963</td>\n",
       "      <td>1.086338</td>\n",
       "    </tr>\n",
       "  </tbody>\n",
       "</table>\n",
       "<p>5 rows × 250 columns</p>\n",
       "</div>"
      ],
      "text/plain": [
       "  Mã mẫu NIRS  Nhóm đo Chỉ tiêu đo Loại cá Địa điểm lấy mẫu  STT mẫu cá   \n",
       "0   2231001a1  Đà Nẵng   Histamine   Ngừ 1          Cảng cá           1  \\\n",
       "1   2231001a2  Đà Nẵng   Histamine   Ngừ 1          Cảng cá           1   \n",
       "2   2231001a3  Đà Nẵng   Histamine   Ngừ 1          Cảng cá           1   \n",
       "3   2231001a4  Đà Nẵng   Histamine   Ngừ 1          Cảng cá           1   \n",
       "4   2231001a5  Đà Nẵng   Histamine   Ngừ 1          Cảng cá           1   \n",
       "\n",
       "       Vị trí đo  Lần lặp Phương pháp đo   Ngày đo  ...       219       220   \n",
       "0  Ngoài da, gáy        1     Hadamard 1  13/11/21  ...  1.260815  1.255657  \\\n",
       "1  Ngoài da, gáy        2     Hadamard 1  13/11/21  ...  1.213489  1.231890   \n",
       "2  Ngoài da, gáy        3     Hadamard 1  13/11/21  ...  1.219571  1.272744   \n",
       "3  Ngoài da, gáy        4     Hadamard 1  13/11/21  ...  1.233272  1.338020   \n",
       "4  Ngoài da, gáy        5     Hadamard 1  13/11/21  ...  1.293733  1.310010   \n",
       "\n",
       "        221       222       223       224       225       226       227   \n",
       "0  1.276434  1.322620  1.304198  1.285766  1.306818  1.267184  1.411523  \\\n",
       "1  1.313393  1.314022  1.395009  1.452664  1.381067  1.484528  1.253933   \n",
       "2  1.342526  1.342042  1.482628  1.419886  1.392945  1.367681  1.254773   \n",
       "3  1.459565  1.392858  1.357045  1.388063  1.224139  1.248838  1.209269   \n",
       "4  1.346611  1.232961  1.253616  1.209367  1.164405  1.251315  1.179963   \n",
       "\n",
       "        228  \n",
       "0  1.352860  \n",
       "1  1.233967  \n",
       "2  1.268085  \n",
       "3  1.289710  \n",
       "4  1.086338  \n",
       "\n",
       "[5 rows x 250 columns]"
      ]
     },
     "execution_count": 3,
     "metadata": {},
     "output_type": "execute_result"
    }
   ],
   "source": [
    "df_train = pd.read_csv(\"data_NIRS/merged_db_Histamine.csv\")\n",
    "\n",
    "columns_wl = {}\n",
    "for i, col in enumerate(df_train.columns[-N_WAVELENGTH:]):\n",
    "    columns_wl[col] = str(i+1)\n",
    "    \n",
    "df_train.rename(columns=columns_wl, inplace=True)\n",
    "df_train.head()"
   ]
  },
  {
   "cell_type": "code",
   "execution_count": 4,
   "metadata": {},
   "outputs": [
    {
     "data": {
      "text/html": [
       "<div>\n",
       "<style scoped>\n",
       "    .dataframe tbody tr th:only-of-type {\n",
       "        vertical-align: middle;\n",
       "    }\n",
       "\n",
       "    .dataframe tbody tr th {\n",
       "        vertical-align: top;\n",
       "    }\n",
       "\n",
       "    .dataframe thead th {\n",
       "        text-align: right;\n",
       "    }\n",
       "</style>\n",
       "<table border=\"1\" class=\"dataframe\">\n",
       "  <thead>\n",
       "    <tr style=\"text-align: right;\">\n",
       "      <th></th>\n",
       "      <th>Mã mẫu NIRS</th>\n",
       "      <th>Nhóm đo</th>\n",
       "      <th>Chỉ tiêu đo</th>\n",
       "      <th>Loại cá</th>\n",
       "      <th>Địa điểm lấy mẫu</th>\n",
       "      <th>STT</th>\n",
       "      <th>Vị trí đo</th>\n",
       "      <th>Lần lặp</th>\n",
       "      <th>Phương pháp đo</th>\n",
       "      <th>Ngày đo</th>\n",
       "      <th>...</th>\n",
       "      <th>219</th>\n",
       "      <th>220</th>\n",
       "      <th>221</th>\n",
       "      <th>222</th>\n",
       "      <th>223</th>\n",
       "      <th>224</th>\n",
       "      <th>225</th>\n",
       "      <th>226</th>\n",
       "      <th>227</th>\n",
       "      <th>228</th>\n",
       "    </tr>\n",
       "  </thead>\n",
       "  <tbody>\n",
       "    <tr>\n",
       "      <th>0</th>\n",
       "      <td>2243618a1</td>\n",
       "      <td>Đà Nẵng</td>\n",
       "      <td>Histamine</td>\n",
       "      <td>Ngừ 2</td>\n",
       "      <td>Cảng cá</td>\n",
       "      <td>1</td>\n",
       "      <td>Ngoài da, gáy</td>\n",
       "      <td>1</td>\n",
       "      <td>Hadamard</td>\n",
       "      <td>14/5/23</td>\n",
       "      <td>...</td>\n",
       "      <td>1.128125</td>\n",
       "      <td>1.123486</td>\n",
       "      <td>1.091475</td>\n",
       "      <td>1.092180</td>\n",
       "      <td>1.043071</td>\n",
       "      <td>1.048198</td>\n",
       "      <td>1.083787</td>\n",
       "      <td>1.131756</td>\n",
       "      <td>1.150394</td>\n",
       "      <td>1.102968</td>\n",
       "    </tr>\n",
       "    <tr>\n",
       "      <th>1</th>\n",
       "      <td>2243618a2</td>\n",
       "      <td>Đà Nẵng</td>\n",
       "      <td>Histamine</td>\n",
       "      <td>Ngừ 2</td>\n",
       "      <td>Cảng cá</td>\n",
       "      <td>1</td>\n",
       "      <td>Ngoài da, gáy</td>\n",
       "      <td>2</td>\n",
       "      <td>Hadamard</td>\n",
       "      <td>14/5/23</td>\n",
       "      <td>...</td>\n",
       "      <td>1.175194</td>\n",
       "      <td>1.098944</td>\n",
       "      <td>1.109347</td>\n",
       "      <td>1.095005</td>\n",
       "      <td>1.097379</td>\n",
       "      <td>1.084792</td>\n",
       "      <td>1.149102</td>\n",
       "      <td>1.083135</td>\n",
       "      <td>1.064088</td>\n",
       "      <td>1.303785</td>\n",
       "    </tr>\n",
       "    <tr>\n",
       "      <th>2</th>\n",
       "      <td>2243618a3</td>\n",
       "      <td>Đà Nẵng</td>\n",
       "      <td>Histamine</td>\n",
       "      <td>Ngừ 2</td>\n",
       "      <td>Cảng cá</td>\n",
       "      <td>1</td>\n",
       "      <td>Ngoài da, gáy</td>\n",
       "      <td>3</td>\n",
       "      <td>Hadamard</td>\n",
       "      <td>14/5/23</td>\n",
       "      <td>...</td>\n",
       "      <td>1.103715</td>\n",
       "      <td>1.060796</td>\n",
       "      <td>1.032177</td>\n",
       "      <td>1.044434</td>\n",
       "      <td>1.006435</td>\n",
       "      <td>1.012021</td>\n",
       "      <td>1.054987</td>\n",
       "      <td>1.042043</td>\n",
       "      <td>1.041007</td>\n",
       "      <td>1.058871</td>\n",
       "    </tr>\n",
       "    <tr>\n",
       "      <th>3</th>\n",
       "      <td>2243618a4</td>\n",
       "      <td>Đà Nẵng</td>\n",
       "      <td>Histamine</td>\n",
       "      <td>Ngừ 2</td>\n",
       "      <td>Cảng cá</td>\n",
       "      <td>1</td>\n",
       "      <td>Ngoài da, gáy</td>\n",
       "      <td>4</td>\n",
       "      <td>Hadamard</td>\n",
       "      <td>14/5/23</td>\n",
       "      <td>...</td>\n",
       "      <td>1.081863</td>\n",
       "      <td>1.054497</td>\n",
       "      <td>1.032965</td>\n",
       "      <td>1.013179</td>\n",
       "      <td>0.994364</td>\n",
       "      <td>1.010946</td>\n",
       "      <td>0.972308</td>\n",
       "      <td>1.014651</td>\n",
       "      <td>1.086105</td>\n",
       "      <td>1.023878</td>\n",
       "    </tr>\n",
       "    <tr>\n",
       "      <th>4</th>\n",
       "      <td>2243618a5</td>\n",
       "      <td>Đà Nẵng</td>\n",
       "      <td>Histamine</td>\n",
       "      <td>Ngừ 2</td>\n",
       "      <td>Cảng cá</td>\n",
       "      <td>1</td>\n",
       "      <td>Ngoài da, gáy</td>\n",
       "      <td>5</td>\n",
       "      <td>Hadamard</td>\n",
       "      <td>14/5/23</td>\n",
       "      <td>...</td>\n",
       "      <td>1.105309</td>\n",
       "      <td>1.071791</td>\n",
       "      <td>1.064701</td>\n",
       "      <td>1.028058</td>\n",
       "      <td>1.020955</td>\n",
       "      <td>1.028195</td>\n",
       "      <td>1.040286</td>\n",
       "      <td>1.062498</td>\n",
       "      <td>1.050439</td>\n",
       "      <td>1.032248</td>\n",
       "    </tr>\n",
       "  </tbody>\n",
       "</table>\n",
       "<p>5 rows × 242 columns</p>\n",
       "</div>"
      ],
      "text/plain": [
       "  Mã mẫu NIRS  Nhóm đo Chỉ tiêu đo Loại cá Địa điểm lấy mẫu  STT   \n",
       "0   2243618a1  Đà Nẵng   Histamine   Ngừ 2          Cảng cá    1  \\\n",
       "1   2243618a2  Đà Nẵng   Histamine   Ngừ 2          Cảng cá    1   \n",
       "2   2243618a3  Đà Nẵng   Histamine   Ngừ 2          Cảng cá    1   \n",
       "3   2243618a4  Đà Nẵng   Histamine   Ngừ 2          Cảng cá    1   \n",
       "4   2243618a5  Đà Nẵng   Histamine   Ngừ 2          Cảng cá    1   \n",
       "\n",
       "       Vị trí đo  Lần lặp Phương pháp đo  Ngày đo  ...       219       220   \n",
       "0  Ngoài da, gáy        1       Hadamard  14/5/23  ...  1.128125  1.123486  \\\n",
       "1  Ngoài da, gáy        2       Hadamard  14/5/23  ...  1.175194  1.098944   \n",
       "2  Ngoài da, gáy        3       Hadamard  14/5/23  ...  1.103715  1.060796   \n",
       "3  Ngoài da, gáy        4       Hadamard  14/5/23  ...  1.081863  1.054497   \n",
       "4  Ngoài da, gáy        5       Hadamard  14/5/23  ...  1.105309  1.071791   \n",
       "\n",
       "        221       222       223       224       225       226       227   \n",
       "0  1.091475  1.092180  1.043071  1.048198  1.083787  1.131756  1.150394  \\\n",
       "1  1.109347  1.095005  1.097379  1.084792  1.149102  1.083135  1.064088   \n",
       "2  1.032177  1.044434  1.006435  1.012021  1.054987  1.042043  1.041007   \n",
       "3  1.032965  1.013179  0.994364  1.010946  0.972308  1.014651  1.086105   \n",
       "4  1.064701  1.028058  1.020955  1.028195  1.040286  1.062498  1.050439   \n",
       "\n",
       "        228  \n",
       "0  1.102968  \n",
       "1  1.303785  \n",
       "2  1.058871  \n",
       "3  1.023878  \n",
       "4  1.032248  \n",
       "\n",
       "[5 rows x 242 columns]"
      ]
     },
     "execution_count": 4,
     "metadata": {},
     "output_type": "execute_result"
    }
   ],
   "source": [
    "df_test = pd.read_csv(\"data_NIRS/merged_Histamine_NEW.csv\")\n",
    "\n",
    "columns_wl = {}\n",
    "for i, col in enumerate(df_test.columns[-N_WAVELENGTH:]):\n",
    "    columns_wl[col] = str(i+1)\n",
    "    \n",
    "df_test.rename(columns=columns_wl, inplace=True)\n",
    "df_test.head()"
   ]
  },
  {
   "attachments": {},
   "cell_type": "markdown",
   "metadata": {},
   "source": [
    "# Xử lý dữ liệu NaN và vô hạn"
   ]
  },
  {
   "cell_type": "code",
   "execution_count": 5,
   "metadata": {},
   "outputs": [],
   "source": [
    "def handle_invalid_data(df):\n",
    "    print(f'Tổng các điểm dữ liệu trống trước xử lý: {df.iloc[:,-N_WAVELENGTH:].isna().sum().sum()}')\n",
    "    print(f'Tổng các điểm dữ liệu vô hạn trước xử lý: {np.isinf(df.iloc[:,-N_WAVELENGTH:]).sum().sum()}')\n",
    "    \n",
    "    null_check = df.isna()\n",
    "    indices_null = np.argwhere(null_check.to_numpy() == True)\n",
    "\n",
    "    inf_check = np.isinf(df.iloc[:,-N_WAVELENGTH:])\n",
    "    indices_inf = np.argwhere(inf_check.to_numpy()== True)\n",
    "    indices_inf[:,1] += df.shape[1] - N_WAVELENGTH\n",
    "\n",
    "    indices = np.concatenate((indices_inf, indices_null))\n",
    "    \n",
    "    n_nearest = 5 # Sử dụng n giá trị gần nhất cả 5 phía trước và sau để tính mean của missing data\n",
    "    for x,y in indices:\n",
    "        try:\n",
    "            if y < df.shape[1] - N_WAVELENGTH: \n",
    "                continue\n",
    "            left = df.iloc[x,  np.maximum(y - n_nearest , 0) : y]\n",
    "            right = df.iloc[x, y + 1 : np.minimum(y + 1 + n_nearest, df.shape[1]-1)]\n",
    "            # sample = left.combine_first(right)\n",
    "            sample = pd.concat([left, right], axis=1)\n",
    "            df.iloc[x, y] = np.mean(sample)\n",
    "        except:\n",
    "            print(x,y)\n",
    "            df.drop(x, inplace = True)\n",
    "    print(f'Tổng các điểm dữ liệu trống sau xử lý: {df.iloc[:,-N_WAVELENGTH:].isna().sum().sum()}')\n",
    "    print(f'Tổng các điểm dữ liệu vô hạn sau xử lý: {np.isinf(df.iloc[:,-N_WAVELENGTH:]).sum().sum()}')\n",
    "    return df"
   ]
  },
  {
   "cell_type": "code",
   "execution_count": 6,
   "metadata": {},
   "outputs": [
    {
     "name": "stdout",
     "output_type": "stream",
     "text": [
      "Tổng các điểm dữ liệu trống trước xử lý: 2376\n",
      "Tổng các điểm dữ liệu vô hạn trước xử lý: 9\n",
      "Tổng các điểm dữ liệu trống sau xử lý: 0\n",
      "Tổng các điểm dữ liệu vô hạn sau xử lý: 0\n"
     ]
    }
   ],
   "source": [
    "df_train = handle_invalid_data(df_train)"
   ]
  },
  {
   "cell_type": "code",
   "execution_count": 7,
   "metadata": {},
   "outputs": [
    {
     "name": "stdout",
     "output_type": "stream",
     "text": [
      "(4279, 242)\n",
      "Tổng các điểm dữ liệu trống trước xử lý: 62\n",
      "Tổng các điểm dữ liệu vô hạn trước xử lý: 2\n",
      "Tổng các điểm dữ liệu trống sau xử lý: 0\n",
      "Tổng các điểm dữ liệu vô hạn sau xử lý: 0\n",
      "(4279, 242)\n"
     ]
    }
   ],
   "source": [
    "print(df_test.shape)\n",
    "df_test = handle_invalid_data(df_test)\n",
    "print(df_test.shape)"
   ]
  },
  {
   "attachments": {},
   "cell_type": "markdown",
   "metadata": {},
   "source": [
    "# Thống kê dữ liệu"
   ]
  },
  {
   "cell_type": "code",
   "execution_count": 8,
   "metadata": {},
   "outputs": [
    {
     "data": {
      "text/plain": [
       "Loại cá\n",
       "Thu 1    1880\n",
       "Thu 2    1200\n",
       "Ngừ 2     640\n",
       "Ngừ 1     559\n",
       "Name: count, dtype: int64"
      ]
     },
     "execution_count": 8,
     "metadata": {},
     "output_type": "execute_result"
    }
   ],
   "source": [
    "df_test['Loại cá'].value_counts()"
   ]
  },
  {
   "cell_type": "code",
   "execution_count": 9,
   "metadata": {},
   "outputs": [
    {
     "data": {
      "text/plain": [
       "Loại cá\n",
       "Ngừ 1    4195\n",
       "Nục 1    3000\n",
       "Thu 1    1800\n",
       "Ngừ 2     480\n",
       "Name: count, dtype: int64"
      ]
     },
     "execution_count": 9,
     "metadata": {},
     "output_type": "execute_result"
    }
   ],
   "source": [
    "df_train['Loại cá'].value_counts()"
   ]
  },
  {
   "cell_type": "code",
   "execution_count": 10,
   "metadata": {},
   "outputs": [
    {
     "data": {
      "text/plain": [
       "Địa điểm lấy mẫu\n",
       "Cảng cá    3079\n",
       "Chợ        1200\n",
       "Name: count, dtype: int64"
      ]
     },
     "execution_count": 10,
     "metadata": {},
     "output_type": "execute_result"
    }
   ],
   "source": [
    "df_test['Địa điểm lấy mẫu'].value_counts()"
   ]
  },
  {
   "cell_type": "code",
   "execution_count": 11,
   "metadata": {},
   "outputs": [
    {
     "name": "stdout",
     "output_type": "stream",
     "text": [
      "Cảng cá Loại cá\n",
      "Thu 1    1880\n",
      "Ngừ 2     640\n",
      "Ngừ 1     559\n",
      "Name: count, dtype: int64\n",
      "Chợ Loại cá\n",
      "Thu 2    1200\n",
      "Name: count, dtype: int64\n"
     ]
    }
   ],
   "source": [
    "for location in list(df_test['Địa điểm lấy mẫu'].unique()):\n",
    "    sub_df_test = df_test[df_test['Địa điểm lấy mẫu'] == location]\n",
    "    print(location, sub_df_test['Loại cá'].value_counts())"
   ]
  },
  {
   "cell_type": "code",
   "execution_count": 12,
   "metadata": {},
   "outputs": [
    {
     "data": {
      "text/plain": [
       "Địa điểm lấy mẫu\n",
       "Cảng cá    9475\n",
       "Name: count, dtype: int64"
      ]
     },
     "execution_count": 12,
     "metadata": {},
     "output_type": "execute_result"
    }
   ],
   "source": [
    "df_train['Địa điểm lấy mẫu'].value_counts()"
   ]
  },
  {
   "cell_type": "code",
   "execution_count": 13,
   "metadata": {},
   "outputs": [
    {
     "name": "stdout",
     "output_type": "stream",
     "text": [
      "Ngừ 1 (array([0, 1]), array([2755, 1440], dtype=int64)) 70\n",
      "Ngừ 2 (array([0]), array([480], dtype=int64)) 8\n",
      "Nục 1 (array([0, 1]), array([1200, 1800], dtype=int64)) 50\n",
      "Thu 1 (array([0, 1]), array([1260,  540], dtype=int64)) 30\n"
     ]
    }
   ],
   "source": [
    "for type_fish in list(df_train['Loại cá'].unique()):\n",
    "    sub_df = df_train[df_train['Loại cá'] == type_fish]\n",
    "    encode_target = np.where(sub_df[NAME_COLUMNS_HISTAMINE] > LOD_HISTAMINE, 1, 0)\n",
    "    count_target = np.unique(encode_target, return_counts=True)\n",
    "    fish_number = len(sub_df['STT mẫu cá'].unique())\n",
    "    print(type_fish, count_target, fish_number)"
   ]
  },
  {
   "cell_type": "code",
   "execution_count": 14,
   "metadata": {},
   "outputs": [
    {
     "name": "stdout",
     "output_type": "stream",
     "text": [
      "Ngừ 2 (array([0]), array([640], dtype=int64)) 16\n",
      "Ngừ 1 (array([0]), array([559], dtype=int64)) 14\n",
      "Thu 1 (array([0]), array([1880], dtype=int64)) 47\n",
      "Thu 2 (array([0]), array([1200], dtype=int64)) 30\n"
     ]
    }
   ],
   "source": [
    "for type_fish in list(df_test['Loại cá'].unique()):\n",
    "    sub_df = df_test[df_test['Loại cá'] == type_fish]\n",
    "    encode_target = np.where(sub_df[NAME_COLUMNS_HISTAMINE] > LOD_HISTAMINE, 1, 0)\n",
    "    count_target = np.unique(encode_target, return_counts=True)\n",
    "    fish_number = len(sub_df['Mã mẫu cá'].unique())\n",
    "    print(type_fish, count_target, fish_number)"
   ]
  },
  {
   "attachments": {},
   "cell_type": "markdown",
   "metadata": {},
   "source": [
    "# Chia dữ liệu Train và trực quan trước khi SMOTE"
   ]
  },
  {
   "cell_type": "code",
   "execution_count": 15,
   "metadata": {},
   "outputs": [],
   "source": [
    "X_TRAIN = df_train.iloc[:,-N_WAVELENGTH:]\n",
    "Y_TRAIN = np.where(df_train[NAME_COLUMNS_HISTAMINE] > LOD_HISTAMINE, 1, 0)"
   ]
  },
  {
   "cell_type": "code",
   "execution_count": 16,
   "metadata": {},
   "outputs": [
    {
     "data": {
      "text/plain": [
       "Text(0.5, 1.0, 'Label Percentage(%) after SMOTE')"
      ]
     },
     "execution_count": 16,
     "metadata": {},
     "output_type": "execute_result"
    },
    {
     "data": {
      "image/png": "[encoded data removed]",
      "text/plain": [
       "<Figure size 2000x500 with 2 Axes>"
      ]
     },
     "metadata": {},
     "output_type": "display_data"
    }
   ],
   "source": [
    "from imblearn.over_sampling import SMOTE\n",
    "over_sample = SMOTE()\n",
    "X_TRAIN_SMOTE, Y_TRAIN_SMOTE = over_sample.fit_resample(X_TRAIN, Y_TRAIN)\n",
    "\n",
    "fig, axes = plt.subplots(1, 2, sharex=False, figsize=(20,5))\n",
    "\n",
    "y_train_smote = np.unique(Y_TRAIN_SMOTE, return_counts = True)\n",
    "y_train_raw = np.unique(Y_TRAIN, return_counts = True)\n",
    "\n",
    "axes[0].pie(y_train_raw[1], labels=[f'Below LOD ({y_train_raw[1][0]})', f'Above LOD ({y_train_raw[1][1]})'], autopct='%1.1f%%',shadow=True, startangle=90)\n",
    "axes[0].set_title('Label Percentage(%) raw')\n",
    "\n",
    "axes[1].pie(y_train_smote[1], labels=[f'Below LOD ({y_train_smote[1][0]})', f'Above LOD ({y_train_smote[1][1]})'], autopct='%1.1f%%',shadow=True, startangle=90)\n",
    "axes[1].set_title('Label Percentage(%) after SMOTE')"
   ]
  },
  {
   "attachments": {},
   "cell_type": "markdown",
   "metadata": {},
   "source": [
    "Chia dữ liệu TEST (không dùng SMOTE)"
   ]
  },
  {
   "cell_type": "code",
   "execution_count": 17,
   "metadata": {},
   "outputs": [
    {
     "data": {
      "text/plain": [
       "(array([0]), array([4279], dtype=int64))"
      ]
     },
     "execution_count": 17,
     "metadata": {},
     "output_type": "execute_result"
    }
   ],
   "source": [
    "X_TEST = df_test.iloc[:,-N_WAVELENGTH:]\n",
    "Y_TEST = np.where(df_test[NAME_COLUMNS_HISTAMINE] >= LOD_HISTAMINE, 1, 0)\n",
    "y_test_raw = np.unique(Y_TEST, return_counts = True)\n",
    "\n",
    "y_test_raw\n"
   ]
  },
  {
   "attachments": {},
   "cell_type": "markdown",
   "metadata": {},
   "source": [
    "# Tiền xử lý"
   ]
  },
  {
   "attachments": {},
   "cell_type": "markdown",
   "metadata": {},
   "source": [
    "Savizky-Golay "
   ]
  },
  {
   "cell_type": "code",
   "execution_count": 18,
   "metadata": {},
   "outputs": [],
   "source": [
    "def my_SG(X, deriv=0):\n",
    "    return savgol_filter(X, window_length=25, polyorder=5, deriv=deriv)"
   ]
  },
  {
   "cell_type": "code",
   "execution_count": 19,
   "metadata": {},
   "outputs": [],
   "source": [
    "def snv(df_input, N_WAVELENGTH=228):\n",
    "    df_input = pd.DataFrame(df_input)\n",
    "    df_output = df_input.copy()\n",
    "    for i in range(df_output.shape[0]):\n",
    "        temp_nir = []\n",
    "        temp_nir = df_output.iloc[i,-N_WAVELENGTH:].to_numpy()\n",
    "        temp_mean = temp_nir.mean()\n",
    "        temp_std = temp_nir.std(ddof=0)\n",
    "        df_output.iloc[i,-N_WAVELENGTH:] = (df_output.iloc[i,-N_WAVELENGTH:] - temp_mean) / temp_std\n",
    "    return df_output\n",
    "\n",
    "def msc(df_input, N_WAVELENGTH=228):\n",
    "    df_input = pd.DataFrame(df_input)\n",
    "    df_output = df_input.copy()\n",
    "    df_input = (df_input.T - np.mean(df_input.T, axis=0)).T\n",
    "    ref = np.mean(df_input, axis=0)\n",
    "\n",
    "    for i in range(df_input.shape[0]):\n",
    "        # Run regression\n",
    "        fit = np.polyfit(ref, df_input.iloc[i,:], 1, full=True)\n",
    "        # Apply correction\n",
    "        df_output.iloc[i,-N_WAVELENGTH:] = (df_input.iloc[i,:] - fit[0][1]) / fit[0][0] \n",
    "    return df_output\n",
    "\n",
    "def my_MinMaxScaler(df_input, N_WAVELENGTH=228):\n",
    "    df_input = pd.DataFrame(df_input)\n",
    "    df_output = df_input.copy()\n",
    "    for i in range(df_output.shape[0]):\n",
    "        x_min = min(df_output.iloc[i,-N_WAVELENGTH:])\n",
    "        x_max = max(df_output.iloc[i,-N_WAVELENGTH:])\n",
    "        df_output.iloc[i,-228:] = (df_output.iloc[i,-N_WAVELENGTH:] - x_min) / (x_max - x_min)\n",
    "    return df_output\n",
    "\n",
    "def my_RobustScaler(df_input, N_WAVELENGTH=228):\n",
    "    df_input = pd.DataFrame(df_input)\n",
    "    df_output = df_input.copy()\n",
    "    for i in range(df_output.shape[0]):\n",
    "        temp_nir = []\n",
    "        temp_nir = df_output.iloc[i,-N_WAVELENGTH:].to_numpy()\n",
    "        Q1 = np.percentile(temp_nir, 25)\n",
    "        median = np.percentile(temp_nir, 50)\n",
    "        Q3 = np.percentile(temp_nir, 75)\n",
    "        df_output.iloc[i,-228:] = (df_output.iloc[i,-N_WAVELENGTH:] - median) / (Q3 - Q1)\n",
    "    return df_output\n"
   ]
  },
  {
   "cell_type": "code",
   "execution_count": 20,
   "metadata": {},
   "outputs": [],
   "source": [
    "def my_preprocess_data(X_data, feature='sg0', normalization = 'msc'):\n",
    "    X_data_prep = X_data\n",
    "\n",
    "    if normalization == 'msc':\n",
    "        X_data_prep = msc(X_data)\n",
    "    elif normalization == 'snv':\n",
    "        X_data_prep = snv(X_data)\n",
    "    elif normalization == 'minmax':\n",
    "        X_data_prep = my_MinMaxScaler(X_data)\n",
    "    elif normalization == 'robust':\n",
    "        X_data_prep = my_RobustScaler(X_data)\n",
    "        \n",
    "    if feature == 'sg0':\n",
    "        X_data_prep = my_SG(X_data_prep, 0)\n",
    "    elif feature == 'sg1':\n",
    "        X_data_prep = my_SG(X_data_prep, 1)\n",
    "    elif feature == 'sg2':\n",
    "        X_data_prep = my_SG(X_data_prep, 2)\n",
    "    elif feature == 'sg1 + sg2':\n",
    "        X_data_SG1 = my_SG(X_data_prep, 1)\n",
    "        X_data_SG2 = my_SG(X_data_prep, 2)\n",
    "        X_data_prep = np.hstack([X_data_SG1, X_data_SG2])\n",
    "        \n",
    "    return X_data_prep"
   ]
  },
  {
   "attachments": {},
   "cell_type": "markdown",
   "metadata": {},
   "source": [
    "# chọn các đặt trưng tối ưu"
   ]
  },
  {
   "cell_type": "code",
   "execution_count": 21,
   "metadata": {},
   "outputs": [],
   "source": [
    "from sklearn.feature_selection import SelectKBest, f_classif\n",
    "from sklearn.ensemble import RandomForestClassifier\n",
    "from sklearn.neighbors import KNeighborsClassifier\n",
    "\n",
    "def get_optimal_wavelength(X, y, top_n_features=10):\n",
    "    best_features = SelectKBest(score_func=f_classif, k=top_n_features)\n",
    "    fit = best_features.fit(X, y)\n",
    "\n",
    "    return list(fit.get_feature_names_out())"
   ]
  },
  {
   "cell_type": "code",
   "execution_count": 22,
   "metadata": {},
   "outputs": [],
   "source": [
    "# dữ liệu train và test đã dùng SMOTE\n",
    "X_DATA = pd.concat([X_TRAIN_SMOTE, X_TEST], axis=0)\n",
    "Y_DATA = np.hstack((Y_TRAIN_SMOTE, Y_TEST))"
   ]
  },
  {
   "cell_type": "code",
   "execution_count": 23,
   "metadata": {},
   "outputs": [],
   "source": [
    "def get_list_wl_for_data_preprocessed(x_data, y_data):\n",
    "    result = []\n",
    "    \n",
    "    length_wl = x_data.shape[1]\n",
    "    start = int(length_wl*0.2)\n",
    "    step = int(length_wl*0.1)\n",
    "    \n",
    "    for n_wl in range(start, length_wl, step):\n",
    "        n_wavelength = get_optimal_wavelength(x_data, y_data, n_wl)\n",
    "        n_wavelength = [int(re.findall(r'\\d+', i)[0]) for i in n_wavelength]\n",
    "        result.append(n_wavelength)\n",
    "    return result"
   ]
  },
  {
   "cell_type": "code",
   "execution_count": 24,
   "metadata": {},
   "outputs": [],
   "source": [
    "def get_list_wl(x_data, y_data):\n",
    "    result = []\n",
    "    \n",
    "    length_wl = x_data.shape[1]\n",
    "    start = int(length_wl*0.2)\n",
    "    step = int(length_wl*0.1)\n",
    "    \n",
    "    for n_wl in range(start, length_wl, step):\n",
    "        n_wavelength = get_optimal_wavelength(x_data, y_data, n_wl)\n",
    "        n_wavelength = [int(i) - 1 for i in n_wavelength]\n",
    "        result.append(n_wavelength)\n",
    "    return result"
   ]
  },
  {
   "attachments": {},
   "cell_type": "markdown",
   "metadata": {},
   "source": [
    "# SVM"
   ]
  },
  {
   "cell_type": "code",
   "execution_count": 25,
   "metadata": {},
   "outputs": [],
   "source": [
    "from sklearn.model_selection import GridSearchCV\n",
    "from sklearn.svm import SVC"
   ]
  },
  {
   "cell_type": "code",
   "execution_count": 26,
   "metadata": {},
   "outputs": [],
   "source": [
    "best_acc_svm = 0\n",
    "best_c = 0\n",
    "best_kernel = ''\n",
    "\n",
    "for kernel in ['linear', 'rbf']:\n",
    "    for c in range(-3,4):\n",
    "        svc = SVC(kernel=kernel, C=10**int(c)) \n",
    "        svc.fit(X_TRAIN_SMOTE, Y_TRAIN_SMOTE)\n",
    "        y_pred = svc.predict(X_TEST)\n",
    "        acc = accuracy_score(Y_TEST, y_pred)\n",
    "        \n",
    "        if acc > best_acc_svm:\n",
    "            best_acc_svm = acc\n",
    "            best_c = 10**int(c)\n",
    "            best_kernel = kernel"
   ]
  },
  {
   "cell_type": "code",
   "execution_count": 27,
   "metadata": {},
   "outputs": [
    {
     "name": "stdout",
     "output_type": "stream",
     "text": [
      "kernel: linear, C: 100 => accuracy: 0.910025706940874\n"
     ]
    }
   ],
   "source": [
    "print(f'kernel: {best_kernel}, C: {best_c} => accuracy: {best_acc_svm}')"
   ]
  },
  {
   "cell_type": "code",
   "execution_count": 28,
   "metadata": {},
   "outputs": [],
   "source": [
    "def my_SVM(X_train, y_train, X_test, y_test):\n",
    "\n",
    "    svc = SVC(kernel=best_kernel, C=best_c) \n",
    "    svc.fit(X_train, y_train)\n",
    "    y_pred = svc.predict(X_test)\n",
    "    acc = np.round(accuracy_score(y_test, y_pred),5)*100\n",
    "\n",
    "    return acc"
   ]
  },
  {
   "cell_type": "code",
   "execution_count": 38,
   "metadata": {},
   "outputs": [
    {
     "name": "stdout",
     "output_type": "stream",
     "text": [
      "93.176 67\n"
     ]
    }
   ],
   "source": [
    "test_max_acc = 0\n",
    "test_wl_optimal_svm = []\n",
    "for n_wavelength in get_list_wl(X_DATA, Y_DATA):\n",
    "    acc = my_SVM(X_TRAIN_SMOTE.iloc[:,n_wavelength], Y_TRAIN_SMOTE, X_TEST.iloc[:,n_wavelength], Y_TEST)\n",
    "    if acc > test_max_acc:\n",
    "        test_max_acc = acc\n",
    "        test_wl_optimal_svm = n_wavelength\n",
    "print(test_max_acc, len(test_wl_optimal_svm))"
   ]
  },
  {
   "cell_type": "code",
   "execution_count": 39,
   "metadata": {},
   "outputs": [
    {
     "name": "stdout",
     "output_type": "stream",
     "text": [
      "100.0\n",
      "88.33800000000001\n",
      "84.342\n",
      "70.624\n",
      "38.724\n",
      "92.194\n",
      "87.1\n",
      "76.256\n",
      "0.8410000000000001\n",
      "83.968\n",
      "28.768\n",
      "59.733999999999995\n",
      "38.911\n",
      "92.265\n",
      "87.40400000000001\n",
      "75.649\n"
     ]
    }
   ],
   "source": [
    "all_feature_exaction = ['sg0', 'sg1', 'sg2', 'sg1 + sg2']\n",
    "all_normalization = ['msc', 'snv', 'minmax', 'robust']\n",
    "\n",
    "\n",
    "acc_svm0 = []\n",
    "for feature in all_feature_exaction:\n",
    "    for normal in all_normalization:\n",
    "        X_train = my_preprocess_data(X_TRAIN_SMOTE.iloc[:,test_wl_optimal_svm],  feature=feature, normalization=normal)\n",
    "        X_test = my_preprocess_data(X_TEST.iloc[:,test_wl_optimal_svm], feature=feature, normalization=normal)\n",
    "        \n",
    "        acc = my_SVM(X_train, Y_TRAIN_SMOTE, X_test, Y_TEST)\n",
    "\n",
    "        print(acc)\n",
    "        acc_svm0.append(acc)\n"
   ]
  },
  {
   "cell_type": "code",
   "execution_count": 29,
   "metadata": {},
   "outputs": [
    {
     "name": "stdout",
     "output_type": "stream",
     "text": [
      "100.0 221\n",
      "90.979 89\n",
      "94.228 67\n",
      "90.301 89\n",
      "72.003 111\n",
      "87.1 45\n",
      "82.82300000000001 111\n",
      "89.34299999999999 45\n",
      "40.5 221\n",
      "80.907 133\n",
      "94.718 221\n",
      "70.811 133\n",
      "68.03 226\n",
      "85.861 91\n",
      "82.23899999999999 226\n",
      "87.497 91\n"
     ]
    }
   ],
   "source": [
    "all_feature_exaction = ['sg0', 'sg1', 'sg2', 'sg1 + sg2']\n",
    "all_normalization = ['msc', 'snv', 'minmax', 'robust']\n",
    "\n",
    "list_wl_optimal_svm = []\n",
    "acc_svm = []\n",
    "for feature in all_feature_exaction:\n",
    "    for normal in all_normalization:\n",
    "        X_train = my_preprocess_data(X_TRAIN_SMOTE,feature=feature, normalization=normal)\n",
    "        X_test = my_preprocess_data(X_TEST,feature=feature, normalization=normal)\n",
    "        \n",
    "        max_acc = 0\n",
    "        wl_optimal_svm = []\n",
    "        for n_wavelength in get_list_wl_for_data_preprocessed(np.vstack((X_train, X_test)), np.hstack((Y_TRAIN_SMOTE, Y_TEST))):\n",
    "            acc = my_SVM(X_train[:,n_wavelength], Y_TRAIN_SMOTE, X_test[:,n_wavelength], Y_TEST)\n",
    "            if acc > max_acc:\n",
    "                max_acc = acc\n",
    "                wl_optimal_svm = n_wavelength\n",
    " \n",
    "        print(max_acc, len(wl_optimal_svm))\n",
    "        acc_svm.append(max_acc)\n",
    "        list_wl_optimal_svm.append(wl_optimal_svm)"
   ]
  },
  {
   "cell_type": "code",
   "execution_count": 40,
   "metadata": {},
   "outputs": [
    {
     "name": "stdout",
     "output_type": "stream",
     "text": [
      "100.0\n",
      "79.364\n",
      "84.319\n",
      "78.89699999999999\n",
      "60.738\n",
      "78.102\n",
      "80.837\n",
      "76.23299999999999\n",
      "40.874\n",
      "75.111\n",
      "95.069\n",
      "69.64200000000001\n",
      "61.159\n",
      "77.822\n",
      "80.60300000000001\n",
      "76.093\n"
     ]
    }
   ],
   "source": [
    "all_feature_exaction = ['sg0', 'sg1', 'sg2', 'sg1 + sg2']\n",
    "all_normalization = ['msc', 'snv', 'minmax', 'robust']\n",
    "\n",
    "acc_svm2 = []\n",
    "for feature in all_feature_exaction:\n",
    "    for normal in all_normalization:\n",
    "        X_train = my_preprocess_data(X_TRAIN_SMOTE,feature=feature, normalization=normal)\n",
    "        X_test = my_preprocess_data(X_TEST,feature=feature, normalization=normal)\n",
    "        \n",
    "        max_acc = 0\n",
    "        wl_optimal_svm = []\n",
    "        acc = my_SVM(X_train, Y_TRAIN_SMOTE, X_test, Y_TEST)\n",
    " \n",
    "        print(acc)\n",
    "        acc_svm2.append(acc)"
   ]
  },
  {
   "cell_type": "code",
   "execution_count": 30,
   "metadata": {},
   "outputs": [
    {
     "name": "stdout",
     "output_type": "stream",
     "text": [
      "100.0\n",
      "[[4279]]\n"
     ]
    }
   ],
   "source": [
    "X_train = my_preprocess_data(X_TRAIN_SMOTE,feature='sg0', normalization='msc')\n",
    "X_test = my_preprocess_data(X_TEST,feature='sg0', normalization='msc')\n",
    "\n",
    "svc = SVC(kernel=best_kernel, C=best_c) \n",
    "svc.fit(X_train[:,list_wl_optimal_svm[0]], Y_TRAIN_SMOTE)\n",
    "y_pred = svc.predict(X_test[:,list_wl_optimal_svm[0]])\n",
    "acc = np.round(accuracy_score(Y_TEST, y_pred),5)*100\n",
    "confuse_matrix = metrics.confusion_matrix(Y_TEST, y_pred)\n",
    "print(acc)\n",
    "print(confuse_matrix)"
   ]
  }
 ],
 "metadata": {
  "kernelspec": {
   "display_name": "Python 3",
   "language": "python",
   "name": "python3"
  },
  "language_info": {
   "codemirror_mode": {
    "name": "ipython",
    "version": 3
   },
   "file_extension": ".py",
   "mimetype": "text/x-python",
   "name": "python",
   "nbconvert_exporter": "python",
   "pygments_lexer": "ipython3",
   "version": "3.11.3"
  },
  "orig_nbformat": 4
 },
 "nbformat": 4,
 "nbformat_minor": 2
}
