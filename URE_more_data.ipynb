{
 "cells": [
  {
   "cell_type": "code",
   "execution_count": 1,
   "metadata": {},
   "outputs": [],
   "source": [
    "import numpy as np\n",
    "import pandas as pd\n",
    "import matplotlib.pyplot as plt\n",
    "import seaborn as sns\n",
    "from scipy.signal import savgol_filter\n",
    "import numpy as np\n",
    "import pandas as pd\n",
    "import matplotlib.pyplot as plt\n",
    "import seaborn as sns\n",
    "import re\n",
    "\n",
    "from sklearn import metrics\n",
    "from sklearn import preprocessing\n",
    "from sklearn.model_selection import train_test_split\n",
    "from sklearn.cross_decomposition import PLSRegression\n",
    "from sklearn.metrics import accuracy_score\n",
    "import json\n",
    "import csv"
   ]
  },
  {
   "cell_type": "code",
   "execution_count": 2,
   "metadata": {},
   "outputs": [],
   "source": [
    "N_WAVELENGTH = 228\n",
    "LOD_URE = 1000\n"
   ]
  },
  {
   "cell_type": "code",
   "execution_count": 3,
   "metadata": {},
   "outputs": [
    {
     "data": {
      "text/html": [
       "<div>\n",
       "<style scoped>\n",
       "    .dataframe tbody tr th:only-of-type {\n",
       "        vertical-align: middle;\n",
       "    }\n",
       "\n",
       "    .dataframe tbody tr th {\n",
       "        vertical-align: top;\n",
       "    }\n",
       "\n",
       "    .dataframe thead th {\n",
       "        text-align: right;\n",
       "    }\n",
       "</style>\n",
       "<table border=\"1\" class=\"dataframe\">\n",
       "  <thead>\n",
       "    <tr style=\"text-align: right;\">\n",
       "      <th></th>\n",
       "      <th>Mã NIR</th>\n",
       "      <th>Urea</th>\n",
       "      <th>Nhóm đo</th>\n",
       "      <th>Chỉ tiêu đo</th>\n",
       "      <th>Loại cá</th>\n",
       "      <th>Địa điểm lấy mẫu</th>\n",
       "      <th>STT mẫu cá</th>\n",
       "      <th>Vị trí đo</th>\n",
       "      <th>Lần lặp</th>\n",
       "      <th>Phương pháp đo</th>\n",
       "      <th>...</th>\n",
       "      <th>219</th>\n",
       "      <th>220</th>\n",
       "      <th>221</th>\n",
       "      <th>222</th>\n",
       "      <th>223</th>\n",
       "      <th>224</th>\n",
       "      <th>225</th>\n",
       "      <th>226</th>\n",
       "      <th>227</th>\n",
       "      <th>228</th>\n",
       "    </tr>\n",
       "  </thead>\n",
       "  <tbody>\n",
       "    <tr>\n",
       "      <th>0</th>\n",
       "      <td>2113099a1</td>\n",
       "      <td>19147.4</td>\n",
       "      <td>Đà Nẵng</td>\n",
       "      <td>Ure</td>\n",
       "      <td>Nục 1</td>\n",
       "      <td>Cảng cá</td>\n",
       "      <td>99</td>\n",
       "      <td>Ngoài da, gáy</td>\n",
       "      <td>1</td>\n",
       "      <td>Hadamard 1</td>\n",
       "      <td>...</td>\n",
       "      <td>-0.136101</td>\n",
       "      <td>-0.287185</td>\n",
       "      <td>-0.380416</td>\n",
       "      <td>-0.459176</td>\n",
       "      <td>-0.407652</td>\n",
       "      <td>-0.472400</td>\n",
       "      <td>-0.429911</td>\n",
       "      <td>-0.333819</td>\n",
       "      <td>-0.395731</td>\n",
       "      <td>-0.167501</td>\n",
       "    </tr>\n",
       "    <tr>\n",
       "      <th>1</th>\n",
       "      <td>2113099a2</td>\n",
       "      <td>19147.4</td>\n",
       "      <td>Đà Nẵng</td>\n",
       "      <td>Ure</td>\n",
       "      <td>Nục 1</td>\n",
       "      <td>Cảng cá</td>\n",
       "      <td>99</td>\n",
       "      <td>Ngoài da, gáy</td>\n",
       "      <td>2</td>\n",
       "      <td>Hadamard 1</td>\n",
       "      <td>...</td>\n",
       "      <td>-0.135012</td>\n",
       "      <td>-0.306666</td>\n",
       "      <td>-0.467668</td>\n",
       "      <td>-0.492477</td>\n",
       "      <td>-0.481871</td>\n",
       "      <td>-0.370628</td>\n",
       "      <td>-0.297349</td>\n",
       "      <td>-0.409274</td>\n",
       "      <td>-0.486664</td>\n",
       "      <td>-0.426964</td>\n",
       "    </tr>\n",
       "    <tr>\n",
       "      <th>2</th>\n",
       "      <td>2113099a3</td>\n",
       "      <td>19147.4</td>\n",
       "      <td>Đà Nẵng</td>\n",
       "      <td>Ure</td>\n",
       "      <td>Nục 1</td>\n",
       "      <td>Cảng cá</td>\n",
       "      <td>99</td>\n",
       "      <td>Ngoài da, gáy</td>\n",
       "      <td>3</td>\n",
       "      <td>Hadamard 1</td>\n",
       "      <td>...</td>\n",
       "      <td>-0.324308</td>\n",
       "      <td>-0.427586</td>\n",
       "      <td>-0.539696</td>\n",
       "      <td>-0.547557</td>\n",
       "      <td>-0.575114</td>\n",
       "      <td>-0.555003</td>\n",
       "      <td>-0.462344</td>\n",
       "      <td>-0.440240</td>\n",
       "      <td>-0.298107</td>\n",
       "      <td>-0.313747</td>\n",
       "    </tr>\n",
       "    <tr>\n",
       "      <th>3</th>\n",
       "      <td>2113099a4</td>\n",
       "      <td>19147.4</td>\n",
       "      <td>Đà Nẵng</td>\n",
       "      <td>Ure</td>\n",
       "      <td>Nục 1</td>\n",
       "      <td>Cảng cá</td>\n",
       "      <td>99</td>\n",
       "      <td>Ngoài da, gáy</td>\n",
       "      <td>4</td>\n",
       "      <td>Hadamard 1</td>\n",
       "      <td>...</td>\n",
       "      <td>-0.298622</td>\n",
       "      <td>-0.377505</td>\n",
       "      <td>-0.534373</td>\n",
       "      <td>-0.577949</td>\n",
       "      <td>-0.533663</td>\n",
       "      <td>-0.570596</td>\n",
       "      <td>-0.488621</td>\n",
       "      <td>-0.419825</td>\n",
       "      <td>-0.354021</td>\n",
       "      <td>-0.295377</td>\n",
       "    </tr>\n",
       "    <tr>\n",
       "      <th>4</th>\n",
       "      <td>2113099a5</td>\n",
       "      <td>19147.4</td>\n",
       "      <td>Đà Nẵng</td>\n",
       "      <td>Ure</td>\n",
       "      <td>Nục 1</td>\n",
       "      <td>Cảng cá</td>\n",
       "      <td>99</td>\n",
       "      <td>Ngoài da, gáy</td>\n",
       "      <td>5</td>\n",
       "      <td>Hadamard 1</td>\n",
       "      <td>...</td>\n",
       "      <td>-0.272732</td>\n",
       "      <td>-0.429970</td>\n",
       "      <td>-0.496265</td>\n",
       "      <td>-0.559068</td>\n",
       "      <td>-0.586745</td>\n",
       "      <td>-0.516311</td>\n",
       "      <td>-0.469121</td>\n",
       "      <td>-0.351306</td>\n",
       "      <td>-0.360435</td>\n",
       "      <td>-0.257529</td>\n",
       "    </tr>\n",
       "  </tbody>\n",
       "</table>\n",
       "<p>5 rows × 240 columns</p>\n",
       "</div>"
      ],
      "text/plain": [
       "      Mã NIR     Urea  Nhóm đo Chỉ tiêu đo Loại cá Địa điểm lấy mẫu   \n",
       "0  2113099a1  19147.4  Đà Nẵng         Ure   Nục 1          Cảng cá  \\\n",
       "1  2113099a2  19147.4  Đà Nẵng         Ure   Nục 1          Cảng cá   \n",
       "2  2113099a3  19147.4  Đà Nẵng         Ure   Nục 1          Cảng cá   \n",
       "3  2113099a4  19147.4  Đà Nẵng         Ure   Nục 1          Cảng cá   \n",
       "4  2113099a5  19147.4  Đà Nẵng         Ure   Nục 1          Cảng cá   \n",
       "\n",
       "   STT mẫu cá      Vị trí đo  Lần lặp Phương pháp đo  ...       219       220   \n",
       "0          99  Ngoài da, gáy        1     Hadamard 1  ... -0.136101 -0.287185  \\\n",
       "1          99  Ngoài da, gáy        2     Hadamard 1  ... -0.135012 -0.306666   \n",
       "2          99  Ngoài da, gáy        3     Hadamard 1  ... -0.324308 -0.427586   \n",
       "3          99  Ngoài da, gáy        4     Hadamard 1  ... -0.298622 -0.377505   \n",
       "4          99  Ngoài da, gáy        5     Hadamard 1  ... -0.272732 -0.429970   \n",
       "\n",
       "        221       222       223       224       225       226       227   \n",
       "0 -0.380416 -0.459176 -0.407652 -0.472400 -0.429911 -0.333819 -0.395731  \\\n",
       "1 -0.467668 -0.492477 -0.481871 -0.370628 -0.297349 -0.409274 -0.486664   \n",
       "2 -0.539696 -0.547557 -0.575114 -0.555003 -0.462344 -0.440240 -0.298107   \n",
       "3 -0.534373 -0.577949 -0.533663 -0.570596 -0.488621 -0.419825 -0.354021   \n",
       "4 -0.496265 -0.559068 -0.586745 -0.516311 -0.469121 -0.351306 -0.360435   \n",
       "\n",
       "        228  \n",
       "0 -0.167501  \n",
       "1 -0.426964  \n",
       "2 -0.313747  \n",
       "3 -0.295377  \n",
       "4 -0.257529  \n",
       "\n",
       "[5 rows x 240 columns]"
      ]
     },
     "execution_count": 3,
     "metadata": {},
     "output_type": "execute_result"
    }
   ],
   "source": [
    "df_train = pd.read_csv(\"data_NIRS/Merged_db.csv\").drop_duplicates()\n",
    "\n",
    "columns_wl = {}\n",
    "for i, col in enumerate(df_train.columns[-N_WAVELENGTH:]):\n",
    "    columns_wl[col] = str(i+1)\n",
    "    \n",
    "df_train.rename(columns=columns_wl, inplace=True)\n",
    "df_train.head()"
   ]
  },
  {
   "cell_type": "code",
   "execution_count": 4,
   "metadata": {},
   "outputs": [
    {
     "data": {
      "text/html": [
       "<div>\n",
       "<style scoped>\n",
       "    .dataframe tbody tr th:only-of-type {\n",
       "        vertical-align: middle;\n",
       "    }\n",
       "\n",
       "    .dataframe tbody tr th {\n",
       "        vertical-align: top;\n",
       "    }\n",
       "\n",
       "    .dataframe thead th {\n",
       "        text-align: right;\n",
       "    }\n",
       "</style>\n",
       "<table border=\"1\" class=\"dataframe\">\n",
       "  <thead>\n",
       "    <tr style=\"text-align: right;\">\n",
       "      <th></th>\n",
       "      <th>Mã mẫu NIRS</th>\n",
       "      <th>Nhóm đo</th>\n",
       "      <th>Chỉ tiêu đo</th>\n",
       "      <th>Loại cá</th>\n",
       "      <th>Địa điểm lấy mẫu</th>\n",
       "      <th>Vị trí đo</th>\n",
       "      <th>Lần lặp</th>\n",
       "      <th>Phương pháp đo</th>\n",
       "      <th>Ngày đo</th>\n",
       "      <th>Giờ đo</th>\n",
       "      <th>...</th>\n",
       "      <th>219</th>\n",
       "      <th>220</th>\n",
       "      <th>221</th>\n",
       "      <th>222</th>\n",
       "      <th>223</th>\n",
       "      <th>224</th>\n",
       "      <th>225</th>\n",
       "      <th>226</th>\n",
       "      <th>227</th>\n",
       "      <th>228</th>\n",
       "    </tr>\n",
       "  </thead>\n",
       "  <tbody>\n",
       "    <tr>\n",
       "      <th>0</th>\n",
       "      <td>2111568a1</td>\n",
       "      <td>Đà Nẵng</td>\n",
       "      <td>Ure</td>\n",
       "      <td>Nục 1</td>\n",
       "      <td>Chợ</td>\n",
       "      <td>Ngoài da, gáy</td>\n",
       "      <td>1</td>\n",
       "      <td>Hadamard</td>\n",
       "      <td>11/5/2023</td>\n",
       "      <td>8:09:51</td>\n",
       "      <td>...</td>\n",
       "      <td>1.138632</td>\n",
       "      <td>1.086649</td>\n",
       "      <td>1.072406</td>\n",
       "      <td>1.046379</td>\n",
       "      <td>1.028282</td>\n",
       "      <td>1.041812</td>\n",
       "      <td>1.078732</td>\n",
       "      <td>1.046972</td>\n",
       "      <td>1.049573</td>\n",
       "      <td>1.100763</td>\n",
       "    </tr>\n",
       "    <tr>\n",
       "      <th>1</th>\n",
       "      <td>2111568a2</td>\n",
       "      <td>Đà Nẵng</td>\n",
       "      <td>Ure</td>\n",
       "      <td>Nục 1</td>\n",
       "      <td>Chợ</td>\n",
       "      <td>Ngoài da, gáy</td>\n",
       "      <td>2</td>\n",
       "      <td>Hadamard</td>\n",
       "      <td>11/5/2023</td>\n",
       "      <td>8:10:26</td>\n",
       "      <td>...</td>\n",
       "      <td>1.260991</td>\n",
       "      <td>1.218730</td>\n",
       "      <td>1.195620</td>\n",
       "      <td>1.161806</td>\n",
       "      <td>1.154972</td>\n",
       "      <td>1.133565</td>\n",
       "      <td>1.168082</td>\n",
       "      <td>1.176639</td>\n",
       "      <td>1.174512</td>\n",
       "      <td>1.230493</td>\n",
       "    </tr>\n",
       "    <tr>\n",
       "      <th>2</th>\n",
       "      <td>2111568a3</td>\n",
       "      <td>Đà Nẵng</td>\n",
       "      <td>Ure</td>\n",
       "      <td>Nục 1</td>\n",
       "      <td>Chợ</td>\n",
       "      <td>Ngoài da, gáy</td>\n",
       "      <td>3</td>\n",
       "      <td>Hadamard</td>\n",
       "      <td>11/5/2023</td>\n",
       "      <td>8:11:05</td>\n",
       "      <td>...</td>\n",
       "      <td>1.062865</td>\n",
       "      <td>1.072660</td>\n",
       "      <td>0.978477</td>\n",
       "      <td>1.001597</td>\n",
       "      <td>0.966198</td>\n",
       "      <td>0.918461</td>\n",
       "      <td>0.949064</td>\n",
       "      <td>1.102628</td>\n",
       "      <td>1.049141</td>\n",
       "      <td>0.851952</td>\n",
       "    </tr>\n",
       "    <tr>\n",
       "      <th>3</th>\n",
       "      <td>2111568a4</td>\n",
       "      <td>Đà Nẵng</td>\n",
       "      <td>Ure</td>\n",
       "      <td>Nục 1</td>\n",
       "      <td>Chợ</td>\n",
       "      <td>Ngoài da, gáy</td>\n",
       "      <td>4</td>\n",
       "      <td>Hadamard</td>\n",
       "      <td>11/5/2023</td>\n",
       "      <td>8:11:15</td>\n",
       "      <td>...</td>\n",
       "      <td>1.066745</td>\n",
       "      <td>1.014306</td>\n",
       "      <td>1.010373</td>\n",
       "      <td>0.954488</td>\n",
       "      <td>0.969100</td>\n",
       "      <td>0.974906</td>\n",
       "      <td>1.108055</td>\n",
       "      <td>0.903741</td>\n",
       "      <td>0.947161</td>\n",
       "      <td>1.233467</td>\n",
       "    </tr>\n",
       "    <tr>\n",
       "      <th>4</th>\n",
       "      <td>2111568a5</td>\n",
       "      <td>Đà Nẵng</td>\n",
       "      <td>Ure</td>\n",
       "      <td>Nục 1</td>\n",
       "      <td>Chợ</td>\n",
       "      <td>Ngoài da, gáy</td>\n",
       "      <td>5</td>\n",
       "      <td>Hadamard</td>\n",
       "      <td>11/5/2023</td>\n",
       "      <td>8:11:58</td>\n",
       "      <td>...</td>\n",
       "      <td>1.030767</td>\n",
       "      <td>0.992682</td>\n",
       "      <td>0.966131</td>\n",
       "      <td>0.919204</td>\n",
       "      <td>0.899133</td>\n",
       "      <td>0.904584</td>\n",
       "      <td>0.924729</td>\n",
       "      <td>0.864697</td>\n",
       "      <td>0.982009</td>\n",
       "      <td>1.062379</td>\n",
       "    </tr>\n",
       "  </tbody>\n",
       "</table>\n",
       "<p>5 rows × 242 columns</p>\n",
       "</div>"
      ],
      "text/plain": [
       "  Mã mẫu NIRS  Nhóm đo Chỉ tiêu đo Loại cá Địa điểm lấy mẫu      Vị trí đo   \n",
       "0   2111568a1  Đà Nẵng         Ure   Nục 1              Chợ  Ngoài da, gáy  \\\n",
       "1   2111568a2  Đà Nẵng         Ure   Nục 1              Chợ  Ngoài da, gáy   \n",
       "2   2111568a3  Đà Nẵng         Ure   Nục 1              Chợ  Ngoài da, gáy   \n",
       "3   2111568a4  Đà Nẵng         Ure   Nục 1              Chợ  Ngoài da, gáy   \n",
       "4   2111568a5  Đà Nẵng         Ure   Nục 1              Chợ  Ngoài da, gáy   \n",
       "\n",
       "   Lần lặp Phương pháp đo    Ngày đo   Giờ đo  ...       219       220   \n",
       "0        1       Hadamard  11/5/2023  8:09:51  ...  1.138632  1.086649  \\\n",
       "1        2       Hadamard  11/5/2023  8:10:26  ...  1.260991  1.218730   \n",
       "2        3       Hadamard  11/5/2023  8:11:05  ...  1.062865  1.072660   \n",
       "3        4       Hadamard  11/5/2023  8:11:15  ...  1.066745  1.014306   \n",
       "4        5       Hadamard  11/5/2023  8:11:58  ...  1.030767  0.992682   \n",
       "\n",
       "        221       222       223       224       225       226       227   \n",
       "0  1.072406  1.046379  1.028282  1.041812  1.078732  1.046972  1.049573  \\\n",
       "1  1.195620  1.161806  1.154972  1.133565  1.168082  1.176639  1.174512   \n",
       "2  0.978477  1.001597  0.966198  0.918461  0.949064  1.102628  1.049141   \n",
       "3  1.010373  0.954488  0.969100  0.974906  1.108055  0.903741  0.947161   \n",
       "4  0.966131  0.919204  0.899133  0.904584  0.924729  0.864697  0.982009   \n",
       "\n",
       "        228  \n",
       "0  1.100763  \n",
       "1  1.230493  \n",
       "2  0.851952  \n",
       "3  1.233467  \n",
       "4  1.062379  \n",
       "\n",
       "[5 rows x 242 columns]"
      ]
     },
     "execution_count": 4,
     "metadata": {},
     "output_type": "execute_result"
    }
   ],
   "source": [
    "df_test = pd.read_csv(\"data_NIRS/merged_Ure_NEW.csv\").drop_duplicates()\n",
    "\n",
    "columns_wl = {}\n",
    "for i, col in enumerate(df_test.columns[-N_WAVELENGTH:]):\n",
    "    columns_wl[col] = str(i+1)\n",
    "    \n",
    "df_test.rename(columns=columns_wl, inplace=True)\n",
    "df_test.head()"
   ]
  },
  {
   "attachments": {},
   "cell_type": "markdown",
   "metadata": {},
   "source": [
    "# Xử lý dữ liệu NaN và vô hạn"
   ]
  },
  {
   "cell_type": "code",
   "execution_count": 5,
   "metadata": {},
   "outputs": [],
   "source": [
    "def handle_invalid_data(df):\n",
    "    print(f'Tổng các điểm dữ liệu trống trước xử lý: {df.iloc[:,-N_WAVELENGTH:].isna().sum().sum()}')\n",
    "    print(f'Tổng các điểm dữ liệu vô hạn trước xử lý: {np.isinf(df.iloc[:,-N_WAVELENGTH:]).sum().sum()}')\n",
    "    \n",
    "    null_check = df.isna()\n",
    "    indices_null = np.argwhere(null_check.to_numpy() == True)\n",
    "\n",
    "    inf_check = np.isinf(df.iloc[:,-N_WAVELENGTH:])\n",
    "    indices_inf = np.argwhere(inf_check.to_numpy()== True)\n",
    "    indices_inf[:,1] += df.shape[1] - N_WAVELENGTH\n",
    "\n",
    "    indices = np.concatenate((indices_inf, indices_null))\n",
    "    \n",
    "    n_nearest = 5 # Sử dụng n giá trị gần nhất cả 5 phía trước và sau để tính mean của missing data\n",
    "    for x,y in indices:\n",
    "        try:\n",
    "            if y < df.shape[1] - N_WAVELENGTH: \n",
    "                continue\n",
    "            left = df.iloc[x,  np.maximum(y - n_nearest , 0) : y]\n",
    "            right = df.iloc[x, y + 1 : np.minimum(y + 1 + n_nearest, df.shape[1]-1)]\n",
    "            # sample = left.combine_first(right)\n",
    "            sample = pd.concat([left, right], axis=1)\n",
    "            df.iloc[x, y] = np.mean(sample)\n",
    "        except:\n",
    "            print(x,y)\n",
    "            df.drop(x, inplace = True)\n",
    "    print(f'Tổng các điểm dữ liệu trống sau xử lý: {df.iloc[:,-N_WAVELENGTH:].isna().sum().sum()}')\n",
    "    print(f'Tổng các điểm dữ liệu vô hạn sau xử lý: {np.isinf(df.iloc[:,-N_WAVELENGTH:]).sum().sum()}')\n",
    "    return df"
   ]
  },
  {
   "cell_type": "code",
   "execution_count": 6,
   "metadata": {},
   "outputs": [
    {
     "name": "stdout",
     "output_type": "stream",
     "text": [
      "Tổng các điểm dữ liệu trống trước xử lý: 0\n",
      "Tổng các điểm dữ liệu vô hạn trước xử lý: 0\n",
      "Tổng các điểm dữ liệu trống sau xử lý: 0\n",
      "Tổng các điểm dữ liệu vô hạn sau xử lý: 0\n"
     ]
    }
   ],
   "source": [
    "df_train = handle_invalid_data(df_train)"
   ]
  },
  {
   "cell_type": "code",
   "execution_count": 7,
   "metadata": {},
   "outputs": [
    {
     "name": "stdout",
     "output_type": "stream",
     "text": [
      "(4400, 242)\n",
      "Tổng các điểm dữ liệu trống trước xử lý: 319\n",
      "Tổng các điểm dữ liệu vô hạn trước xử lý: 17\n",
      "3322 14\n",
      "Tổng các điểm dữ liệu trống sau xử lý: 107\n",
      "Tổng các điểm dữ liệu vô hạn sau xử lý: 0\n",
      "(4399, 242)\n"
     ]
    }
   ],
   "source": [
    "print(df_test.shape)\n",
    "df_test = handle_invalid_data(df_test)\n",
    "print(df_test.shape)"
   ]
  },
  {
   "cell_type": "code",
   "execution_count": 8,
   "metadata": {},
   "outputs": [
    {
     "name": "stdout",
     "output_type": "stream",
     "text": [
      "(4399, 242)\n",
      "Tổng các điểm dữ liệu trống trước xử lý: 107\n",
      "Tổng các điểm dữ liệu vô hạn trước xử lý: 0\n",
      "Tổng các điểm dữ liệu trống sau xử lý: 0\n",
      "Tổng các điểm dữ liệu vô hạn sau xử lý: 0\n",
      "(4399, 242)\n"
     ]
    }
   ],
   "source": [
    "print(df_test.shape)\n",
    "df_test = handle_invalid_data(df_test)\n",
    "print(df_test.shape)"
   ]
  },
  {
   "attachments": {},
   "cell_type": "markdown",
   "metadata": {},
   "source": [
    "# Thống kê dữ liệu"
   ]
  },
  {
   "cell_type": "code",
   "execution_count": 54,
   "metadata": {},
   "outputs": [
    {
     "data": {
      "text/plain": [
       "Loại cá\n",
       "Ngừ 1    1200\n",
       "Thu 2    1200\n",
       "Thu 1    1199\n",
       "Nục 1     800\n",
       "Name: count, dtype: int64"
      ]
     },
     "execution_count": 54,
     "metadata": {},
     "output_type": "execute_result"
    }
   ],
   "source": [
    "df_test['Loại cá'].value_counts()"
   ]
  },
  {
   "cell_type": "code",
   "execution_count": 10,
   "metadata": {},
   "outputs": [
    {
     "data": {
      "text/plain": [
       "Loại cá\n",
       "Nục 2    3425\n",
       "Ngừ 1    3120\n",
       "Thu 1    1545\n",
       "Nục 1     360\n",
       "Name: count, dtype: int64"
      ]
     },
     "execution_count": 10,
     "metadata": {},
     "output_type": "execute_result"
    }
   ],
   "source": [
    "df_train['Loại cá'].value_counts()"
   ]
  },
  {
   "cell_type": "code",
   "execution_count": 11,
   "metadata": {},
   "outputs": [
    {
     "data": {
      "text/plain": [
       "Địa điểm lấy mẫu\n",
       "Cảng cá    3599\n",
       "Chợ         800\n",
       "Name: count, dtype: int64"
      ]
     },
     "execution_count": 11,
     "metadata": {},
     "output_type": "execute_result"
    }
   ],
   "source": [
    "df_test['Địa điểm lấy mẫu'].value_counts()"
   ]
  },
  {
   "cell_type": "code",
   "execution_count": 55,
   "metadata": {},
   "outputs": [
    {
     "data": {
      "text/plain": [
       "3919"
      ]
     },
     "execution_count": 55,
     "metadata": {},
     "output_type": "execute_result"
    }
   ],
   "source": [
    "4399-480\n"
   ]
  },
  {
   "cell_type": "code",
   "execution_count": 53,
   "metadata": {},
   "outputs": [
    {
     "name": "stdout",
     "output_type": "stream",
     "text": [
      "Chợ Loại cá\n",
      "Nục 1    800\n",
      "Name: count, dtype: int64\n",
      "Cảng cá Loại cá\n",
      "Ngừ 1    1200\n",
      "Thu 2    1200\n",
      "Thu 1    1199\n",
      "Name: count, dtype: int64\n"
     ]
    }
   ],
   "source": [
    "for location in list(df_test['Địa điểm lấy mẫu'].unique()):\n",
    "    sub_df_test = df_test[df_test['Địa điểm lấy mẫu'] == location]\n",
    "    print(location, sub_df_test['Loại cá'].value_counts())"
   ]
  },
  {
   "cell_type": "code",
   "execution_count": 12,
   "metadata": {},
   "outputs": [
    {
     "data": {
      "text/plain": [
       "Địa điểm lấy mẫu\n",
       "Cảng cá    8450\n",
       "Name: count, dtype: int64"
      ]
     },
     "execution_count": 12,
     "metadata": {},
     "output_type": "execute_result"
    }
   ],
   "source": [
    "df_train['Địa điểm lấy mẫu'].value_counts()"
   ]
  },
  {
   "cell_type": "code",
   "execution_count": 13,
   "metadata": {},
   "outputs": [
    {
     "name": "stdout",
     "output_type": "stream",
     "text": [
      "Nục 1 (array([1]), array([360], dtype=int64)) 6\n",
      "Nục 2 (array([0, 1]), array([2405, 1020], dtype=int64)) 57\n",
      "Ngừ 1 (array([0, 1]), array([2760,  360], dtype=int64)) 52\n",
      "Thu 1 (array([0, 1]), array([1185,  360], dtype=int64)) 26\n"
     ]
    }
   ],
   "source": [
    "for type_fish in list(df_train['Loại cá'].unique()):\n",
    "    sub_df = df_train[df_train['Loại cá'] == type_fish]\n",
    "    encode_target = np.where(sub_df['Urea'] > LOD_URE, 1, 0)\n",
    "    count_target = np.unique(encode_target, return_counts=True)\n",
    "    fish_number = len(sub_df['STT mẫu cá'].unique())\n",
    "    print(type_fish, count_target, fish_number)"
   ]
  },
  {
   "cell_type": "code",
   "execution_count": 14,
   "metadata": {},
   "outputs": [
    {
     "name": "stdout",
     "output_type": "stream",
     "text": [
      "Nục 1 (array([0, 1]), array([720,  80], dtype=int64)) 20\n",
      "Ngừ 1 (array([0, 1]), array([800, 400], dtype=int64)) 30\n",
      "Thu 2 (array([0]), array([1200], dtype=int64)) 30\n",
      "Thu 1 (array([0]), array([1199], dtype=int64)) 30\n"
     ]
    }
   ],
   "source": [
    "for type_fish in list(df_test['Loại cá'].unique()):\n",
    "    sub_df = df_test[df_test['Loại cá'] == type_fish]\n",
    "    encode_target = np.where(sub_df['Urea'] > LOD_URE, 1, 0)\n",
    "    count_target = np.unique(encode_target, return_counts=True)\n",
    "    fish_number = len(sub_df['Mã mẫu cá'].unique())\n",
    "    print(type_fish, count_target, fish_number)"
   ]
  },
  {
   "attachments": {},
   "cell_type": "markdown",
   "metadata": {},
   "source": [
    "# Chia dữ liệu Train và trực quan trước khi SMOTE"
   ]
  },
  {
   "cell_type": "code",
   "execution_count": 15,
   "metadata": {},
   "outputs": [],
   "source": [
    "X_TRAIN = df_train.iloc[:,-N_WAVELENGTH:]\n",
    "Y_TRAIN = np.where(df_train['Urea'] > LOD_URE, 1, 0)"
   ]
  },
  {
   "cell_type": "code",
   "execution_count": 16,
   "metadata": {},
   "outputs": [
    {
     "data": {
      "text/plain": [
       "Text(0.5, 1.0, 'Label Percentage(%) after SMOTE')"
      ]
     },
     "execution_count": 16,
     "metadata": {},
     "output_type": "execute_result"
    },
    {
     "data": {
      "image/png": "[encoded data removed]",
      "text/plain": [
       "<Figure size 2000x500 with 2 Axes>"
      ]
     },
     "metadata": {},
     "output_type": "display_data"
    }
   ],
   "source": [
    "from imblearn.over_sampling import SMOTE\n",
    "over_sample = SMOTE()\n",
    "X_TRAIN_SMOTE, Y_TRAIN_SMOTE = over_sample.fit_resample(X_TRAIN, Y_TRAIN)\n",
    "\n",
    "fig, axes = plt.subplots(1, 2, sharex=False, figsize=(20,5))\n",
    "\n",
    "y_train_smote = np.unique(Y_TRAIN_SMOTE, return_counts = True)\n",
    "y_train_raw = np.unique(Y_TRAIN, return_counts = True)\n",
    "\n",
    "axes[0].pie(y_train_raw[1], labels=[f'Below LOD ({y_train_raw[1][0]})', f'Above LOD ({y_train_raw[1][1]})'], autopct='%1.1f%%',shadow=True, startangle=90)\n",
    "axes[0].set_title('Label Percentage(%) raw')\n",
    "\n",
    "axes[1].pie(y_train_smote[1], labels=[f'Below LOD ({y_train_smote[1][0]})', f'Above LOD ({y_train_smote[1][1]})'], autopct='%1.1f%%',shadow=True, startangle=90)\n",
    "axes[1].set_title('Label Percentage(%) after SMOTE')"
   ]
  },
  {
   "attachments": {},
   "cell_type": "markdown",
   "metadata": {},
   "source": [
    "Chia dữ liệu TEST (không dùng SMOTE)"
   ]
  },
  {
   "cell_type": "code",
   "execution_count": 47,
   "metadata": {},
   "outputs": [
    {
     "data": {
      "text/plain": [
       "Text(0.5, 1.0, 'Count of label')"
      ]
     },
     "execution_count": 47,
     "metadata": {},
     "output_type": "execute_result"
    },
    {
     "data": {
      "image/png": "[encoded data removed]",
      "text/plain": [
       "<Figure size 2000x500 with 2 Axes>"
      ]
     },
     "metadata": {},
     "output_type": "display_data"
    }
   ],
   "source": [
    "X_TEST = df_test.iloc[:,-N_WAVELENGTH:]\n",
    "Y_TEST = np.where(df_test['Urea'] >= LOD_URE, 1, 0)\n",
    "y_test_raw = np.unique(Y_TEST, return_counts = True)\n",
    "\n",
    "fig, axes = plt.subplots(1, 2, sharex=False, figsize=(20,5))\n",
    "\n",
    "axes[1].pie(y_test_raw[1], labels=[f'Below LOD ({y_test_raw[1][0]})', f'Above LOD ({y_test_raw[1][1]})'], autopct='%1.1f%%',shadow=True, startangle=90)\n",
    "axes[1].set_title('Label Percentage(%)')\n",
    "axes[0].bar(y_test_raw[0], y_test_raw[1], tick_label=['Below LOD', 'Above LOD'], align='center', color=sns.color_palette())\n",
    "axes[0].set_title('Count of label')"
   ]
  },
  {
   "attachments": {},
   "cell_type": "markdown",
   "metadata": {},
   "source": [
    "# Tiền xử lý"
   ]
  },
  {
   "attachments": {},
   "cell_type": "markdown",
   "metadata": {},
   "source": [
    "Savizky-Golay "
   ]
  },
  {
   "cell_type": "code",
   "execution_count": 18,
   "metadata": {},
   "outputs": [],
   "source": [
    "def my_SG(X, deriv=0):\n",
    "    return savgol_filter(X, window_length=25, polyorder=5, deriv=deriv)"
   ]
  },
  {
   "cell_type": "code",
   "execution_count": 19,
   "metadata": {},
   "outputs": [],
   "source": [
    "def snv(df_input, N_WAVELENGTH=228):\n",
    "    df_input = pd.DataFrame(df_input)\n",
    "    df_output = df_input.copy()\n",
    "    for i in range(df_output.shape[0]):\n",
    "        temp_nir = []\n",
    "        temp_nir = df_output.iloc[i,-N_WAVELENGTH:].to_numpy()\n",
    "        temp_mean = temp_nir.mean()\n",
    "        temp_std = temp_nir.std(ddof=0)\n",
    "        df_output.iloc[i,-N_WAVELENGTH:] = (df_output.iloc[i,-N_WAVELENGTH:] - temp_mean) / temp_std\n",
    "    return df_output\n",
    "\n",
    "def msc(df_input, N_WAVELENGTH=228):\n",
    "    df_input = pd.DataFrame(df_input)\n",
    "    df_output = df_input.copy()\n",
    "    df_input = (df_input.T - np.mean(df_input.T, axis=0)).T\n",
    "    ref = np.mean(df_input, axis=0)\n",
    "\n",
    "    for i in range(df_input.shape[0]):\n",
    "        # Run regression\n",
    "        fit = np.polyfit(ref, df_input.iloc[i,:], 1, full=True)\n",
    "        # Apply correction\n",
    "        df_output.iloc[i,-N_WAVELENGTH:] = (df_input.iloc[i,:] - fit[0][1]) / fit[0][0] \n",
    "    return df_output\n",
    "\n",
    "def my_MinMaxScaler(df_input, N_WAVELENGTH=228):\n",
    "    df_input = pd.DataFrame(df_input)\n",
    "    df_output = df_input.copy()\n",
    "    for i in range(df_output.shape[0]):\n",
    "        x_min = min(df_output.iloc[i,-N_WAVELENGTH:])\n",
    "        x_max = max(df_output.iloc[i,-N_WAVELENGTH:])\n",
    "        df_output.iloc[i,-228:] = (df_output.iloc[i,-N_WAVELENGTH:] - x_min) / (x_max - x_min)\n",
    "    return df_output\n",
    "\n",
    "def my_RobustScaler(df_input, N_WAVELENGTH=228):\n",
    "    df_input = pd.DataFrame(df_input)\n",
    "    df_output = df_input.copy()\n",
    "    for i in range(df_output.shape[0]):\n",
    "        temp_nir = []\n",
    "        temp_nir = df_output.iloc[i,-N_WAVELENGTH:].to_numpy()\n",
    "        Q1 = np.percentile(temp_nir, 25)\n",
    "        median = np.percentile(temp_nir, 50)\n",
    "        Q3 = np.percentile(temp_nir, 75)\n",
    "        df_output.iloc[i,-228:] = (df_output.iloc[i,-N_WAVELENGTH:] - median) / (Q3 - Q1)\n",
    "    return df_output\n"
   ]
  },
  {
   "cell_type": "code",
   "execution_count": 20,
   "metadata": {},
   "outputs": [],
   "source": [
    "def my_preprocess_data(X_data, feature='sg0', normalization = 'msc'):\n",
    "    X_data_prep = X_data\n",
    "\n",
    "    if normalization == 'msc':\n",
    "        X_data_prep = msc(X_data)\n",
    "    elif normalization == 'snv':\n",
    "        X_data_prep = snv(X_data)\n",
    "    elif normalization == 'minmax':\n",
    "        X_data_prep = my_MinMaxScaler(X_data)\n",
    "    elif normalization == 'robust':\n",
    "        X_data_prep = my_RobustScaler(X_data)\n",
    "        \n",
    "    if feature == 'sg0':\n",
    "        X_data_prep = my_SG(X_data_prep, 0)\n",
    "    elif feature == 'sg1':\n",
    "        X_data_prep = my_SG(X_data_prep, 1)\n",
    "    elif feature == 'sg2':\n",
    "        X_data_prep = my_SG(X_data_prep, 2)\n",
    "    elif feature == 'sg1 + sg2':\n",
    "        X_data_SG1 = my_SG(X_data_prep, 1)\n",
    "        X_data_SG2 = my_SG(X_data_prep, 2)\n",
    "        X_data_prep = np.hstack([X_data_SG1, X_data_SG2])\n",
    "        \n",
    "    return X_data_prep"
   ]
  },
  {
   "attachments": {},
   "cell_type": "markdown",
   "metadata": {},
   "source": [
    "# chọn các đặt trưng tối ưu"
   ]
  },
  {
   "cell_type": "code",
   "execution_count": 21,
   "metadata": {},
   "outputs": [],
   "source": [
    "from sklearn.feature_selection import SelectKBest, f_classif\n",
    "from sklearn.ensemble import RandomForestClassifier\n",
    "from sklearn.neighbors import KNeighborsClassifier\n",
    "\n",
    "def get_optimal_wavelength(X, y, top_n_features=10):\n",
    "    best_features = SelectKBest(score_func=f_classif, k=top_n_features)\n",
    "    fit = best_features.fit(X, y)\n",
    "\n",
    "    return list(fit.get_feature_names_out())"
   ]
  },
  {
   "cell_type": "code",
   "execution_count": 22,
   "metadata": {},
   "outputs": [],
   "source": [
    "# dữ liệu train và test đã dùng SMOTE\n",
    "X_DATA = pd.concat([X_TRAIN_SMOTE, X_TEST], axis=0)\n",
    "Y_DATA = np.hstack((Y_TRAIN_SMOTE, Y_TEST))"
   ]
  },
  {
   "cell_type": "code",
   "execution_count": 23,
   "metadata": {},
   "outputs": [],
   "source": [
    "def get_list_wl_for_data_preprocessed(x_data, y_data):\n",
    "    result = []\n",
    "    \n",
    "    length_wl = x_data.shape[1]\n",
    "    start = int(length_wl*0.2)\n",
    "    step = int(length_wl*0.1)\n",
    "    \n",
    "    for n_wl in range(start, length_wl, step):\n",
    "        n_wavelength = get_optimal_wavelength(x_data, y_data, n_wl)\n",
    "        n_wavelength = [int(re.findall(r'\\d+', i)[0]) for i in n_wavelength]\n",
    "        result.append(n_wavelength)\n",
    "    return result"
   ]
  },
  {
   "cell_type": "code",
   "execution_count": 24,
   "metadata": {},
   "outputs": [],
   "source": [
    "def get_list_wl(x_data, y_data):\n",
    "    result = []\n",
    "    \n",
    "    length_wl = x_data.shape[1]\n",
    "    start = int(length_wl*0.2)\n",
    "    step = int(length_wl*0.1)\n",
    "    \n",
    "    for n_wl in range(start, length_wl, step):\n",
    "        n_wavelength = get_optimal_wavelength(x_data, y_data, n_wl)\n",
    "        n_wavelength = [int(i) - 1 for i in n_wavelength]\n",
    "        result.append(n_wavelength)\n",
    "    return result"
   ]
  },
  {
   "attachments": {},
   "cell_type": "markdown",
   "metadata": {},
   "source": [
    "# SVM"
   ]
  },
  {
   "cell_type": "code",
   "execution_count": 25,
   "metadata": {},
   "outputs": [],
   "source": [
    "from sklearn.model_selection import GridSearchCV\n",
    "from sklearn.svm import SVC"
   ]
  },
  {
   "cell_type": "code",
   "execution_count": 58,
   "metadata": {},
   "outputs": [],
   "source": [
    "best_acc_svm = 0\n",
    "best_c = 0\n",
    "best_kernel = ''\n",
    "\n",
    "for kernel in ['linear', 'rbf']:\n",
    "    for c in range(-3,4):\n",
    "        svc = SVC(kernel=kernel, C=10**int(c)) \n",
    "        svc.fit(X_TRAIN_SMOTE, Y_TRAIN_SMOTE)\n",
    "        y_pred = svc.predict(X_TEST)\n",
    "        acc = accuracy_score(Y_TEST, y_pred)\n",
    "        \n",
    "        if acc > best_acc_svm:\n",
    "            best_acc_svm = acc\n",
    "            best_c = 10**int(c)\n",
    "            best_kernel = kernel"
   ]
  },
  {
   "cell_type": "code",
   "execution_count": 59,
   "metadata": {},
   "outputs": [
    {
     "name": "stdout",
     "output_type": "stream",
     "text": [
      "kernel: rbf, C: 0.001 => accuracy: 0.8908842918845192\n"
     ]
    }
   ],
   "source": [
    "print(f'kernel: {best_kernel}, C: {best_c} => accuracy: {best_acc_svm}')"
   ]
  },
  {
   "cell_type": "code",
   "execution_count": 28,
   "metadata": {},
   "outputs": [],
   "source": [
    "def my_SVM(X_train, y_train, X_test, y_test):\n",
    "\n",
    "    svc = SVC(kernel=best_kernel, C=best_c) \n",
    "    svc.fit(X_train, y_train)\n",
    "    y_pred = svc.predict(X_test)\n",
    "    acc = np.round(accuracy_score(y_test, y_pred),5)*100\n",
    "\n",
    "    return acc"
   ]
  },
  {
   "cell_type": "code",
   "execution_count": 34,
   "metadata": {},
   "outputs": [
    {
     "name": "stdout",
     "output_type": "stream",
     "text": [
      "0 221\n"
     ]
    }
   ],
   "source": [
    "test_max_acc = 0\n",
    "test_wl_optimal_svm = []\n",
    "for n_wavelength in get_list_wl(X_DATA, Y_DATA):\n",
    "    acc = my_SVM(X_TRAIN_SMOTE.iloc[:,n_wavelength], Y_TRAIN_SMOTE, X_TEST.iloc[:,n_wavelength], Y_TEST)\n",
    "    if acc > test_max_acc:\n",
    "        max_acc = acc\n",
    "        test_wl_optimal_svm = n_wavelength\n",
    "print(test_max_acc, len(test_wl_optimal_svm))"
   ]
  },
  {
   "cell_type": "code",
   "execution_count": 36,
   "metadata": {},
   "outputs": [
    {
     "name": "stdout",
     "output_type": "stream",
     "text": [
      "11.025\n",
      "36.303999999999995\n",
      "41.782000000000004\n",
      "49.057\n",
      "13.48\n",
      "59.377\n",
      "59.763999999999996\n",
      "58.467999999999996\n",
      "16.367\n",
      "63.242\n",
      "63.742\n",
      "62.241\n",
      "13.866999999999999\n",
      "60.036\n",
      "60.241\n",
      "59.218\n"
     ]
    }
   ],
   "source": [
    "all_feature_exaction = ['sg0', 'sg1', 'sg2', 'sg1 + sg2']\n",
    "all_normalization = ['msc', 'snv', 'minmax', 'robust']\n",
    "\n",
    "\n",
    "acc_svm0 = []\n",
    "for feature in all_feature_exaction:\n",
    "    for normal in all_normalization:\n",
    "        X_train = my_preprocess_data(X_TRAIN_SMOTE.iloc[:,test_wl_optimal_svm],  feature=feature, normalization=normal)\n",
    "        X_test = my_preprocess_data(X_TEST.iloc[:,test_wl_optimal_svm], feature=feature, normalization=normal)\n",
    "        \n",
    "        acc = my_SVM(X_train, Y_TRAIN_SMOTE, X_test, Y_TEST)\n",
    "\n",
    "        print(acc)\n",
    "        acc_svm0.append(acc)\n"
   ]
  },
  {
   "cell_type": "code",
   "execution_count": 29,
   "metadata": {},
   "outputs": [
    {
     "name": "stdout",
     "output_type": "stream",
     "text": [
      "89.066 45\n",
      "52.171 45\n",
      "47.488 45\n",
      "50.011 45\n",
      "89.02 45\n",
      "62.332 45\n",
      "61.673 67\n",
      "60.331999999999994 45\n",
      "82.837 45\n",
      "75.608 45\n",
      "73.789 45\n",
      "72.38 45\n",
      "88.907 91\n",
      "63.12799999999999 91\n",
      "62.742 91\n",
      "60.809000000000005 136\n"
     ]
    }
   ],
   "source": [
    "all_feature_exaction = ['sg0', 'sg1', 'sg2', 'sg1 + sg2']\n",
    "all_normalization = ['msc', 'snv', 'minmax', 'robust']\n",
    "\n",
    "list_wl_optimal_svm = []\n",
    "acc_svm = []\n",
    "for feature in all_feature_exaction:\n",
    "    for normal in all_normalization:\n",
    "        X_train = my_preprocess_data(X_TRAIN_SMOTE,feature=feature, normalization=normal)\n",
    "        X_test = my_preprocess_data(X_TEST,feature=feature, normalization=normal)\n",
    "        \n",
    "        max_acc = 0\n",
    "        wl_optimal_svm = []\n",
    "        for n_wavelength in get_list_wl_for_data_preprocessed(np.vstack((X_train, X_test)), np.hstack((Y_TRAIN_SMOTE, Y_TEST))):\n",
    "            acc = my_SVM(X_train[:,n_wavelength], Y_TRAIN_SMOTE, X_test[:,n_wavelength], Y_TEST)\n",
    "            if acc > max_acc:\n",
    "                max_acc = acc\n",
    "                wl_optimal_svm = n_wavelength\n",
    " \n",
    "        print(max_acc, len(wl_optimal_svm))\n",
    "        acc_svm.append(max_acc)\n",
    "        list_wl_optimal_svm.append(wl_optimal_svm)"
   ]
  },
  {
   "cell_type": "code",
   "execution_count": 30,
   "metadata": {},
   "outputs": [
    {
     "name": "stdout",
     "output_type": "stream",
     "text": [
      "10.979999999999999\n",
      "34.144000000000005\n",
      "41.282000000000004\n",
      "46.623999999999995\n",
      "13.526\n",
      "59.241\n",
      "59.423\n",
      "58.445\n",
      "16.049\n",
      "63.196\n",
      "63.674\n",
      "62.355000000000004\n",
      "13.844000000000001\n",
      "59.785999999999994\n",
      "59.923\n",
      "59.059\n"
     ]
    }
   ],
   "source": [
    "all_feature_exaction = ['sg0', 'sg1', 'sg2', 'sg1 + sg2']\n",
    "all_normalization = ['msc', 'snv', 'minmax', 'robust']\n",
    "\n",
    "acc_svm2 = []\n",
    "for feature in all_feature_exaction:\n",
    "    for normal in all_normalization:\n",
    "        X_train = my_preprocess_data(X_TRAIN_SMOTE,feature=feature, normalization=normal)\n",
    "        X_test = my_preprocess_data(X_TEST,feature=feature, normalization=normal)\n",
    "        \n",
    "        max_acc = 0\n",
    "        wl_optimal_svm = []\n",
    "        acc = my_SVM(X_train, Y_TRAIN_SMOTE, X_test, Y_TEST)\n",
    " \n",
    "        print(acc)\n",
    "        acc_svm2.append(acc)"
   ]
  },
  {
   "cell_type": "code",
   "execution_count": 44,
   "metadata": {},
   "outputs": [
    {
     "name": "stdout",
     "output_type": "stream",
     "text": [
      "89.066\n",
      "[[3918    1]\n",
      " [ 480    0]]\n"
     ]
    }
   ],
   "source": [
    "X_train = my_preprocess_data(X_TRAIN_SMOTE,feature='sg0', normalization='msc')\n",
    "X_test = my_preprocess_data(X_TEST,feature='sg0', normalization='msc')\n",
    "\n",
    "svc = SVC(kernel=best_kernel, C=best_c) \n",
    "svc.fit(X_train[:,list_wl_optimal_svm[0]], Y_TRAIN_SMOTE)\n",
    "y_pred = svc.predict(X_test[:,list_wl_optimal_svm[0]])\n",
    "acc = np.round(accuracy_score(Y_TEST, y_pred),5)*100\n",
    "confuse_matrix = metrics.confusion_matrix(Y_TEST, y_pred)\n",
    "print(acc)\n",
    "print(confuse_matrix)"
   ]
  },
  {
   "cell_type": "code",
   "execution_count": 56,
   "metadata": {},
   "outputs": [
    {
     "data": {
      "text/plain": [
       "<Axes: >"
      ]
     },
     "execution_count": 56,
     "metadata": {},
     "output_type": "execute_result"
    },
    {
     "data": {
      "image/png": "[encoded data removed]",
      "text/plain": [
       "<Figure size 800x600 with 2 Axes>"
      ]
     },
     "metadata": {},
     "output_type": "display_data"
    }
   ],
   "source": [
    "import seaborn as sn\n",
    "plt.figure(figsize = (8,6))\n",
    "df_cm = pd.DataFrame(confuse_matrix, range(2), range(2))\n",
    "sn.heatmap(df_cm, annot=True, cmap='Blues', fmt='g')"
   ]
  },
  {
   "attachments": {},
   "cell_type": "markdown",
   "metadata": {},
   "source": [
    "# Sử dụng mô hình SVM đo các vị trí của cá"
   ]
  },
  {
   "cell_type": "code",
   "execution_count": 41,
   "metadata": {},
   "outputs": [
    {
     "name": "stdout",
     "output_type": "stream",
     "text": [
      "Vị trí : Ngoài da, gáy  ==>  độ chính xác: 0.8907103825136612\n",
      "Vị trí : Ngoài da, lưng  ==>  độ chính xác: 0.8909090909090909\n",
      "Vị trí : Ngoài da, đuôi  ==>  độ chính xác: 0.8907103825136612\n",
      "Vị trí : Ngoài da, bụng  ==>  độ chính xác: 0.8911070780399274\n",
      "Vị trí : Trong thịt, gáy  ==>  độ chính xác: 0.8920863309352518\n",
      "Vị trí : Trong thịt, lưng  ==>  độ chính xác: 0.8909090909090909\n",
      "Vị trí : Trong thịt, đuôi  ==>  độ chính xác: 0.8907103825136612\n",
      "Vị trí : Trong thịt, bụng  ==>  độ chính xác: 0.8899082568807339\n",
      "========================================\n"
     ]
    }
   ],
   "source": [
    "accuracy_each_position = []\n",
    "confuse_matrix_each_position = []\n",
    "\n",
    "X_train = my_preprocess_data(X_TRAIN_SMOTE, feature='sg0', normalization='msc')\n",
    "svc = SVC(kernel=best_kernel, C=best_c) \n",
    "svc.fit(X_train[:,list_wl_optimal_svm[0]], Y_TRAIN_SMOTE)\n",
    "\n",
    "for position in list(df_test['Vị trí đo'].unique()):\n",
    "    sub_data_TEST = df_test[df_test['Vị trí đo'] == position]\n",
    "    sub_X_TEST = sub_data_TEST.iloc[:, -N_WAVELENGTH:]\n",
    "\n",
    "    sub_X_TEST_prep = my_preprocess_data(sub_X_TEST, feature='sg0', normalization='msc')\n",
    "    sub_Y_TEST = np.where(sub_data_TEST['Urea'] > LOD_URE, 1, 0)\n",
    "    \n",
    "    y_pred = svc.predict(sub_X_TEST_prep[:,list_wl_optimal_svm[0]])\n",
    "    acc_svm = accuracy_score(sub_Y_TEST, y_pred)\n",
    "    \n",
    "    accuracy_each_position.append(acc_svm)\n",
    "    confuse_matrix_each_position.append(metrics.confusion_matrix(sub_Y_TEST, y_pred))\n",
    "    \n",
    "    print(f'Vị trí : {position}  ==>  độ chính xác: {acc_svm}')\n",
    "    \n",
    "print('='*40)"
   ]
  },
  {
   "cell_type": "code",
   "execution_count": 43,
   "metadata": {},
   "outputs": [
    {
     "name": "stdout",
     "output_type": "stream",
     "text": [
      "[[489   0]\n",
      " [ 60   0]]\n",
      "---------\n",
      "[[490   0]\n",
      " [ 60   0]]\n",
      "---------\n",
      "[[489   0]\n",
      " [ 60   0]]\n",
      "---------\n",
      "[[491   0]\n",
      " [ 60   0]]\n",
      "---------\n",
      "[[496   0]\n",
      " [ 60   0]]\n",
      "---------\n",
      "[[490   0]\n",
      " [ 60   0]]\n",
      "---------\n",
      "[[489   0]\n",
      " [ 60   0]]\n",
      "---------\n",
      "[[485   0]\n",
      " [ 60   0]]\n",
      "---------\n"
     ]
    }
   ],
   "source": [
    "for i in confuse_matrix_each_position:\n",
    "    print(i)\n",
    "    print('---------')"
   ]
  },
  {
   "cell_type": "code",
   "execution_count": null,
   "metadata": {},
   "outputs": [],
   "source": [
    "confuse_matrix = []\n",
    "for i in range(K_FOLD):\n",
    "    matrix = list_confuse_matrix_cv_SVM[i][1]\n",
    "    confuse_matrix.append(np.array(matrix))\n",
    "    tp = matrix[0][0]\n",
    "    fp = matrix[0][1]\n",
    "    tn = matrix[1][1]\n",
    "    fn = matrix[1][0]\n",
    "    precision = tp / (tp + fp)\n",
    "    recall =  tp / (tp + fn)\n",
    "    f1_score = (2*precision*recall)/(precision + recall)"
   ]
  }
 ],
 "metadata": {
  "kernelspec": {
   "display_name": "Python 3",
   "language": "python",
   "name": "python3"
  },
  "language_info": {
   "codemirror_mode": {
    "name": "ipython",
    "version": 3
   },
   "file_extension": ".py",
   "mimetype": "text/x-python",
   "name": "python",
   "nbconvert_exporter": "python",
   "pygments_lexer": "ipython3",
   "version": "3.11.3"
  },
  "orig_nbformat": 4
 },
 "nbformat": 4,
 "nbformat_minor": 2
}
