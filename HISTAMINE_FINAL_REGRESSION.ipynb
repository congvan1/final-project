{
 "cells": [
  {
   "cell_type": "code",
   "execution_count": 71,
   "metadata": {},
   "outputs": [],
   "source": [
    "import numpy as np\n",
    "import pandas as pd\n",
    "import matplotlib.pyplot as plt\n",
    "import seaborn as sns\n",
    "from scipy.signal import savgol_filter\n",
    "import numpy as np\n",
    "import pandas as pd\n",
    "import matplotlib.pyplot as plt\n",
    "import seaborn as sns\n",
    "from math import sqrt\n",
    "\n",
    "from sklearn import metrics\n",
    "from sklearn import preprocessing\n",
    "from sklearn.model_selection import train_test_split\n",
    "from sklearn.cross_decomposition import PLSRegression\n",
    "from sklearn.metrics import accuracy_score\n",
    "import json\n",
    "import re\n",
    "from collections import namedtuple\n",
    "from imblearn.over_sampling import SMOTE\n",
    "\n",
    "import warnings\n",
    "warnings.filterwarnings(\"ignore\")"
   ]
  },
  {
   "cell_type": "code",
   "execution_count": 72,
   "metadata": {},
   "outputs": [],
   "source": [
    "N_WAVELENGTH = 228\n",
    "LOD_HISTAMINE = 100\n",
    "NAME_COLUMNS_HISTAMINE ='Histamine\\n(mg/kg)'"
   ]
  },
  {
   "cell_type": "code",
   "execution_count": 73,
   "metadata": {},
   "outputs": [
    {
     "data": {
      "text/html": [
       "<div>\n",
       "<style scoped>\n",
       "    .dataframe tbody tr th:only-of-type {\n",
       "        vertical-align: middle;\n",
       "    }\n",
       "\n",
       "    .dataframe tbody tr th {\n",
       "        vertical-align: top;\n",
       "    }\n",
       "\n",
       "    .dataframe thead th {\n",
       "        text-align: right;\n",
       "    }\n",
       "</style>\n",
       "<table border=\"1\" class=\"dataframe\">\n",
       "  <thead>\n",
       "    <tr style=\"text-align: right;\">\n",
       "      <th></th>\n",
       "      <th>Mã mẫu NIRS</th>\n",
       "      <th>Nhóm đo</th>\n",
       "      <th>Chỉ tiêu đo</th>\n",
       "      <th>Loại cá</th>\n",
       "      <th>Địa điểm lấy mẫu</th>\n",
       "      <th>STT mẫu cá</th>\n",
       "      <th>Vị trí đo</th>\n",
       "      <th>Lần lặp</th>\n",
       "      <th>Phương pháp đo</th>\n",
       "      <th>Ngày đo</th>\n",
       "      <th>...</th>\n",
       "      <th>219</th>\n",
       "      <th>220</th>\n",
       "      <th>221</th>\n",
       "      <th>222</th>\n",
       "      <th>223</th>\n",
       "      <th>224</th>\n",
       "      <th>225</th>\n",
       "      <th>226</th>\n",
       "      <th>227</th>\n",
       "      <th>228</th>\n",
       "    </tr>\n",
       "  </thead>\n",
       "  <tbody>\n",
       "    <tr>\n",
       "      <th>0</th>\n",
       "      <td>2231001a1</td>\n",
       "      <td>Đà Nẵng</td>\n",
       "      <td>Histamine</td>\n",
       "      <td>Ngừ 1</td>\n",
       "      <td>Cảng cá</td>\n",
       "      <td>1</td>\n",
       "      <td>Ngoài da, gáy</td>\n",
       "      <td>1</td>\n",
       "      <td>Hadamard 1</td>\n",
       "      <td>13/11/21</td>\n",
       "      <td>...</td>\n",
       "      <td>1.260815</td>\n",
       "      <td>1.255657</td>\n",
       "      <td>1.276434</td>\n",
       "      <td>1.322620</td>\n",
       "      <td>1.304198</td>\n",
       "      <td>1.285766</td>\n",
       "      <td>1.306818</td>\n",
       "      <td>1.267184</td>\n",
       "      <td>1.411523</td>\n",
       "      <td>1.352860</td>\n",
       "    </tr>\n",
       "    <tr>\n",
       "      <th>1</th>\n",
       "      <td>2231001a2</td>\n",
       "      <td>Đà Nẵng</td>\n",
       "      <td>Histamine</td>\n",
       "      <td>Ngừ 1</td>\n",
       "      <td>Cảng cá</td>\n",
       "      <td>1</td>\n",
       "      <td>Ngoài da, gáy</td>\n",
       "      <td>2</td>\n",
       "      <td>Hadamard 1</td>\n",
       "      <td>13/11/21</td>\n",
       "      <td>...</td>\n",
       "      <td>1.213489</td>\n",
       "      <td>1.231890</td>\n",
       "      <td>1.313393</td>\n",
       "      <td>1.314022</td>\n",
       "      <td>1.395009</td>\n",
       "      <td>1.452664</td>\n",
       "      <td>1.381067</td>\n",
       "      <td>1.484528</td>\n",
       "      <td>1.253933</td>\n",
       "      <td>1.233967</td>\n",
       "    </tr>\n",
       "    <tr>\n",
       "      <th>2</th>\n",
       "      <td>2231001a3</td>\n",
       "      <td>Đà Nẵng</td>\n",
       "      <td>Histamine</td>\n",
       "      <td>Ngừ 1</td>\n",
       "      <td>Cảng cá</td>\n",
       "      <td>1</td>\n",
       "      <td>Ngoài da, gáy</td>\n",
       "      <td>3</td>\n",
       "      <td>Hadamard 1</td>\n",
       "      <td>13/11/21</td>\n",
       "      <td>...</td>\n",
       "      <td>1.219571</td>\n",
       "      <td>1.272744</td>\n",
       "      <td>1.342526</td>\n",
       "      <td>1.342042</td>\n",
       "      <td>1.482628</td>\n",
       "      <td>1.419886</td>\n",
       "      <td>1.392945</td>\n",
       "      <td>1.367681</td>\n",
       "      <td>1.254773</td>\n",
       "      <td>1.268085</td>\n",
       "    </tr>\n",
       "    <tr>\n",
       "      <th>3</th>\n",
       "      <td>2231001a4</td>\n",
       "      <td>Đà Nẵng</td>\n",
       "      <td>Histamine</td>\n",
       "      <td>Ngừ 1</td>\n",
       "      <td>Cảng cá</td>\n",
       "      <td>1</td>\n",
       "      <td>Ngoài da, gáy</td>\n",
       "      <td>4</td>\n",
       "      <td>Hadamard 1</td>\n",
       "      <td>13/11/21</td>\n",
       "      <td>...</td>\n",
       "      <td>1.233272</td>\n",
       "      <td>1.338020</td>\n",
       "      <td>1.459565</td>\n",
       "      <td>1.392858</td>\n",
       "      <td>1.357045</td>\n",
       "      <td>1.388063</td>\n",
       "      <td>1.224139</td>\n",
       "      <td>1.248838</td>\n",
       "      <td>1.209269</td>\n",
       "      <td>1.289710</td>\n",
       "    </tr>\n",
       "    <tr>\n",
       "      <th>4</th>\n",
       "      <td>2231001a5</td>\n",
       "      <td>Đà Nẵng</td>\n",
       "      <td>Histamine</td>\n",
       "      <td>Ngừ 1</td>\n",
       "      <td>Cảng cá</td>\n",
       "      <td>1</td>\n",
       "      <td>Ngoài da, gáy</td>\n",
       "      <td>5</td>\n",
       "      <td>Hadamard 1</td>\n",
       "      <td>13/11/21</td>\n",
       "      <td>...</td>\n",
       "      <td>1.293733</td>\n",
       "      <td>1.310010</td>\n",
       "      <td>1.346611</td>\n",
       "      <td>1.232961</td>\n",
       "      <td>1.253616</td>\n",
       "      <td>1.209367</td>\n",
       "      <td>1.164405</td>\n",
       "      <td>1.251315</td>\n",
       "      <td>1.179963</td>\n",
       "      <td>1.086338</td>\n",
       "    </tr>\n",
       "  </tbody>\n",
       "</table>\n",
       "<p>5 rows × 250 columns</p>\n",
       "</div>"
      ],
      "text/plain": [
       "  Mã mẫu NIRS  Nhóm đo Chỉ tiêu đo Loại cá Địa điểm lấy mẫu  STT mẫu cá   \n",
       "0   2231001a1  Đà Nẵng   Histamine   Ngừ 1          Cảng cá           1  \\\n",
       "1   2231001a2  Đà Nẵng   Histamine   Ngừ 1          Cảng cá           1   \n",
       "2   2231001a3  Đà Nẵng   Histamine   Ngừ 1          Cảng cá           1   \n",
       "3   2231001a4  Đà Nẵng   Histamine   Ngừ 1          Cảng cá           1   \n",
       "4   2231001a5  Đà Nẵng   Histamine   Ngừ 1          Cảng cá           1   \n",
       "\n",
       "       Vị trí đo  Lần lặp Phương pháp đo   Ngày đo  ...       219       220   \n",
       "0  Ngoài da, gáy        1     Hadamard 1  13/11/21  ...  1.260815  1.255657  \\\n",
       "1  Ngoài da, gáy        2     Hadamard 1  13/11/21  ...  1.213489  1.231890   \n",
       "2  Ngoài da, gáy        3     Hadamard 1  13/11/21  ...  1.219571  1.272744   \n",
       "3  Ngoài da, gáy        4     Hadamard 1  13/11/21  ...  1.233272  1.338020   \n",
       "4  Ngoài da, gáy        5     Hadamard 1  13/11/21  ...  1.293733  1.310010   \n",
       "\n",
       "        221       222       223       224       225       226       227   \n",
       "0  1.276434  1.322620  1.304198  1.285766  1.306818  1.267184  1.411523  \\\n",
       "1  1.313393  1.314022  1.395009  1.452664  1.381067  1.484528  1.253933   \n",
       "2  1.342526  1.342042  1.482628  1.419886  1.392945  1.367681  1.254773   \n",
       "3  1.459565  1.392858  1.357045  1.388063  1.224139  1.248838  1.209269   \n",
       "4  1.346611  1.232961  1.253616  1.209367  1.164405  1.251315  1.179963   \n",
       "\n",
       "        228  \n",
       "0  1.352860  \n",
       "1  1.233967  \n",
       "2  1.268085  \n",
       "3  1.289710  \n",
       "4  1.086338  \n",
       "\n",
       "[5 rows x 250 columns]"
      ]
     },
     "execution_count": 73,
     "metadata": {},
     "output_type": "execute_result"
    }
   ],
   "source": [
    "df = pd.read_csv(\"data_NIRS/merged_db_Histamine.csv\")\n",
    "\n",
    "columns_wl = {}\n",
    "for i, col in enumerate(df.columns[-N_WAVELENGTH:]):\n",
    "    columns_wl[col] = str(i+1)\n",
    "    \n",
    "df.rename(columns=columns_wl, inplace=True)\n",
    "df.head()"
   ]
  },
  {
   "attachments": {},
   "cell_type": "markdown",
   "metadata": {},
   "source": [
    "# Xử lý dữ liệu NaN và vô hạn"
   ]
  },
  {
   "cell_type": "code",
   "execution_count": 74,
   "metadata": {},
   "outputs": [
    {
     "name": "stdout",
     "output_type": "stream",
     "text": [
      "Tổng các điểm dữ liệu trống trước xử lý: 2376\n",
      "Tổng các điểm dữ liệu vô hạn trước xử lý: 9\n"
     ]
    }
   ],
   "source": [
    "print(f'Tổng các điểm dữ liệu trống trước xử lý: {df.iloc[:,-N_WAVELENGTH:].isna().sum().sum()}')\n",
    "print(f'Tổng các điểm dữ liệu vô hạn trước xử lý: {np.isinf(df.iloc[:,-N_WAVELENGTH:]).sum().sum()}')"
   ]
  },
  {
   "cell_type": "code",
   "execution_count": 75,
   "metadata": {},
   "outputs": [],
   "source": [
    "# Lấy tất cả vị trí của các trị trống hoặc vô hạn\n",
    "null_check = df.isna()\n",
    "indices_null = np.argwhere(null_check.to_numpy() == True)\n",
    "\n",
    "df_inf = df.iloc[:,-N_WAVELENGTH:]\n",
    "inf_check = np.isinf(df_inf)\n",
    "indices_inf = np.argwhere(inf_check.to_numpy()== True)\n",
    "indices_inf[:,1] += df.shape[1] - N_WAVELENGTH\n",
    "\n",
    "indices = np.concatenate((indices_inf, indices_null))"
   ]
  },
  {
   "cell_type": "code",
   "execution_count": 76,
   "metadata": {},
   "outputs": [],
   "source": [
    "n_nearest = 5 # Sử dụng n giá trị gần nhất cả 2 phía trước và sau để tính mean của missing data\n",
    "for x,y in indices:\n",
    "    if y < df.shape[1] - N_WAVELENGTH: # Chỉ xử lý các missing data của phổ\n",
    "        continue\n",
    "    #sample = df.iloc[x, np.maximum(y - n_nearest , 0):np.minimum(y + 1 + n_nearest, df.shape[1]-1)]\n",
    "    left = df.iloc[x,  np.maximum(y - n_nearest , 0) : y]\n",
    "    right = df.iloc[x, y + 1 : np.minimum(y + 1 + n_nearest, df.shape[1]-1)]\n",
    "    sample = left.combine_first(right)\n",
    "    df.iloc[x, y] = np.mean(sample)"
   ]
  },
  {
   "cell_type": "code",
   "execution_count": 77,
   "metadata": {},
   "outputs": [
    {
     "name": "stdout",
     "output_type": "stream",
     "text": [
      "Tổng các điểm dữ liệu trống sau xử lý: 0\n",
      "Tổng các điểm dữ liệu vô hạn sau xử lý: 0\n"
     ]
    }
   ],
   "source": [
    "print(f'Tổng các điểm dữ liệu trống sau xử lý: {df.iloc[:,-N_WAVELENGTH:].isna().sum().sum()}')\n",
    "print(f'Tổng các điểm dữ liệu vô hạn sau xử lý: {np.isinf(df.iloc[:,-N_WAVELENGTH:]).sum().sum()}')"
   ]
  },
  {
   "attachments": {},
   "cell_type": "markdown",
   "metadata": {},
   "source": [
    "# Tạo test data từ dữ liệu gốc, tất cả các mẫu NIR của 1 con cá (thường là 60) thì sẽ nằm trong test data"
   ]
  },
  {
   "cell_type": "code",
   "execution_count": 9,
   "metadata": {},
   "outputs": [],
   "source": [
    "def get_random_test_fish_id(df):\n",
    "    TEST_SIZE = 0.2\n",
    "\n",
    "    fish_numbers = df['STT mẫu cá'].unique()\n",
    "\n",
    "    ure_value = []\n",
    "    for number in fish_numbers:\n",
    "        sub_df = df[df['STT mẫu cá'] == number]\n",
    "        ure_value.append(sub_df[NAME_COLUMNS_HISTAMINE].iloc[1])\n",
    "    y_labels = np.where(np.array(ure_value) >= LOD_HISTAMINE, 1, 0)\n",
    "\n",
    "    number_test_fish = int(len(fish_numbers)*TEST_SIZE)\n",
    "\n",
    "    indices_below_LOD = np.where(y_labels == 0)[0]\n",
    "    test_indices_below_LOD = np.random.choice(indices_below_LOD, size=number_test_fish//2, replace=False)\n",
    "    test_fish_numbers_below_LOD = fish_numbers[test_indices_below_LOD]\n",
    "\n",
    "    indices_above_LOD = np.where(y_labels == 1)[0]\n",
    "    test_indices_above_LOD = np.random.choice(indices_above_LOD, size=number_test_fish//2, replace=False)\n",
    "    test_fish_numbers_above_LOD = fish_numbers[test_indices_above_LOD]\n",
    "\n",
    "    test_fish_number = np.hstack((test_fish_numbers_above_LOD, test_fish_numbers_below_LOD))\n",
    "    \n",
    "    return test_fish_number\n",
    "\n",
    "def train_smote_and_test_by_test_fish_id(df, test_id_fish:list):\n",
    "    test_data = pd.DataFrame()\n",
    "    train_data = df.copy()\n",
    "    for i in test_id_fish:\n",
    "        sub_df = df[df['STT mẫu cá'] == i]\n",
    "        test_data = pd.concat([test_data, sub_df], axis=0)\n",
    "        \n",
    "        train_data = train_data.drop(train_data[train_data['STT mẫu cá'] == i].index)\n",
    "        \n",
    "    return train_data, test_data\n",
    "\n",
    "def my_split_train_test(train_data, test_data):\n",
    "    x_train = train_data.iloc[:,-N_WAVELENGTH:]\n",
    "    y_train = np.where(train_data[NAME_COLUMNS_HISTAMINE] >= LOD_HISTAMINE, 1, 0)\n",
    "    over_sample = SMOTE()\n",
    "    x_train_smote, y_train_smote = over_sample.fit_resample(x_train, y_train)\n",
    "    \n",
    "    x_test = test_data.iloc[:,-N_WAVELENGTH:]\n",
    "    y_test = np.where(test_data[NAME_COLUMNS_HISTAMINE] >= LOD_HISTAMINE, 1, 0)\n",
    "    \n",
    "    return x_train_smote, y_train_smote, x_test, y_test"
   ]
  },
  {
   "cell_type": "code",
   "execution_count": 10,
   "metadata": {},
   "outputs": [],
   "source": [
    "test_fish_id = get_random_test_fish_id(df)\n",
    "train_data, test_data = train_smote_and_test_by_test_fish_id(df, test_fish_id)"
   ]
  },
  {
   "attachments": {},
   "cell_type": "markdown",
   "metadata": {},
   "source": [
    "# Chia dữ liệu Train và trực quan trước khi SMOTE"
   ]
  },
  {
   "cell_type": "code",
   "execution_count": 78,
   "metadata": {},
   "outputs": [],
   "source": [
    "X_TRAIN = train_data.iloc[:,-N_WAVELENGTH:]\n",
    "Y_TRAIN = np.where(train_data[NAME_COLUMNS_HISTAMINE] >= LOD_HISTAMINE, 1, 0)"
   ]
  },
  {
   "attachments": {},
   "cell_type": "markdown",
   "metadata": {},
   "source": [
    "# Tiền xử lý"
   ]
  },
  {
   "attachments": {},
   "cell_type": "markdown",
   "metadata": {},
   "source": [
    "Savizky-Golay "
   ]
  },
  {
   "cell_type": "code",
   "execution_count": 79,
   "metadata": {},
   "outputs": [],
   "source": [
    "def my_SG(X, deriv=0):\n",
    "    X_SG = savgol_filter(X, window_length=25, polyorder=5, deriv=deriv)\n",
    "    return pd.DataFrame(X_SG)"
   ]
  },
  {
   "cell_type": "code",
   "execution_count": 80,
   "metadata": {},
   "outputs": [],
   "source": [
    "def snv(df_input, N_WAVELENGTH=228):\n",
    "    df_input = pd.DataFrame(df_input)\n",
    "    df_output = df_input.copy()\n",
    "    for i in range(df_output.shape[0]):\n",
    "        temp_nir = []\n",
    "        temp_nir = df_output.iloc[i,-N_WAVELENGTH:].to_numpy()\n",
    "        temp_mean = temp_nir.mean()\n",
    "        temp_std = temp_nir.std(ddof=0)\n",
    "        df_output.iloc[i,-N_WAVELENGTH:] = (df_output.iloc[i,-N_WAVELENGTH:] - temp_mean) / temp_std\n",
    "    return df_output\n",
    "\n",
    "def msc(df_input, N_WAVELENGTH=228):\n",
    "    df_input = pd.DataFrame(df_input)\n",
    "    df_output = df_input.copy()\n",
    "    df_input = (df_input.T - np.mean(df_input.T, axis=0)).T\n",
    "    ref = np.mean(df_input, axis=0)\n",
    "\n",
    "    for i in range(df_input.shape[0]):\n",
    "        # Run regression\n",
    "        fit = np.polyfit(ref, df_input.iloc[i,:], 1, full=True)\n",
    "        # Apply correction\n",
    "        df_output.iloc[i,-N_WAVELENGTH:] = (df_input.iloc[i,:] - fit[0][1]) / fit[0][0] \n",
    "    return df_output\n",
    "\n",
    "def my_MinMaxScaler(df_input, N_WAVELENGTH=228):\n",
    "    df_input = pd.DataFrame(df_input)\n",
    "    df_output = df_input.copy()\n",
    "    for i in range(df_output.shape[0]):\n",
    "        x_min = min(df_output.iloc[i,-N_WAVELENGTH:])\n",
    "        x_max = max(df_output.iloc[i,-N_WAVELENGTH:])\n",
    "        df_output.iloc[i,-228:] = (df_output.iloc[i,-N_WAVELENGTH:] - x_min) / (x_max - x_min)\n",
    "    return df_output\n",
    "\n",
    "def my_RobustScaler(df_input, N_WAVELENGTH=228):\n",
    "    df_input = pd.DataFrame(df_input)\n",
    "    df_output = df_input.copy()\n",
    "    for i in range(df_output.shape[0]):\n",
    "        temp_nir = []\n",
    "        temp_nir = df_output.iloc[i,-N_WAVELENGTH:].to_numpy()\n",
    "        Q1 = np.percentile(temp_nir, 25)\n",
    "        median = np.percentile(temp_nir, 50)\n",
    "        Q3 = np.percentile(temp_nir, 75)\n",
    "        df_output.iloc[i,-228:] = (df_output.iloc[i,-N_WAVELENGTH:] - median) / (Q3 - Q1)\n",
    "    return df_output\n"
   ]
  },
  {
   "cell_type": "code",
   "execution_count": 81,
   "metadata": {},
   "outputs": [],
   "source": [
    "def my_preprocess_data(X_data, feature='sg0', normalization = 'msc'):\n",
    "    X_data_prep = X_data\n",
    "\n",
    "    if normalization == 'msc':\n",
    "        X_data_prep = msc(X_data)\n",
    "    elif normalization == 'snv':\n",
    "        X_data_prep = snv(X_data)\n",
    "    elif normalization == 'minmax':\n",
    "        X_data_prep = my_MinMaxScaler(X_data)\n",
    "    elif normalization == 'robust':\n",
    "        X_data_prep = my_RobustScaler(X_data)\n",
    "        \n",
    "    if feature == 'sg0':\n",
    "        X_data_prep = my_SG(X_data_prep, 0)\n",
    "    elif feature == 'sg1':\n",
    "        X_data_prep = my_SG(X_data_prep, 1)\n",
    "    elif feature == 'sg2':\n",
    "        X_data_prep = my_SG(X_data_prep, 2)\n",
    "    elif feature == 'sg1 + sg2':\n",
    "        X_data_SG1 = my_SG(X_data_prep, 1)\n",
    "        X_data_SG2 = my_SG(X_data_prep, 2)\n",
    "        X_data_prep = np.hstack([X_data_SG1, X_data_SG2])\n",
    "        \n",
    "    return X_data_prep"
   ]
  },
  {
   "attachments": {},
   "cell_type": "markdown",
   "metadata": {},
   "source": [
    "# best K "
   ]
  },
  {
   "cell_type": "code",
   "execution_count": 82,
   "metadata": {},
   "outputs": [],
   "source": [
    "from sklearn.feature_selection import SelectKBest, f_classif\n",
    "from sklearn.ensemble import RandomForestClassifier\n",
    "from sklearn.neighbors import KNeighborsClassifier\n",
    "\n",
    "def get_optimal_wavelength(X, y, top_n_features=10):\n",
    "    best_features = SelectKBest(score_func=f_classif, k=top_n_features)\n",
    "    fit = best_features.fit(X, y)\n",
    "\n",
    "    return list(fit.get_feature_names_out())"
   ]
  },
  {
   "cell_type": "code",
   "execution_count": 40,
   "metadata": {},
   "outputs": [
    {
     "data": {
      "text/plain": [
       "<seaborn.axisgrid.FacetGrid at 0x1ef5e0a6190>"
      ]
     },
     "execution_count": 40,
     "metadata": {},
     "output_type": "execute_result"
    },
    {
     "data": {
      "image/png": "[encoded data removed]",
      "text/plain": [
       "<Figure size 500x500 with 1 Axes>"
      ]
     },
     "metadata": {},
     "output_type": "display_data"
    }
   ],
   "source": [
    "\n",
    "sns.set_theme(style=\"darkgrid\")\n",
    "sns.set(rc={'figure.figsize':(18.5,10.5)})\n",
    "sns.displot(data=df,x=NAME_COLUMNS_HISTAMINE,kde=True)"
   ]
  },
  {
   "cell_type": "code",
   "execution_count": 58,
   "metadata": {},
   "outputs": [
    {
     "name": "stdout",
     "output_type": "stream",
     "text": [
      "-6.33352856387833e-17 -6.119369944225706e-17+ 1.0\n",
      "-7.401486830834377e-17 -6.787105599759258e-17+ 1.0\n"
     ]
    }
   ],
   "source": [
    "from statistics import mean \n",
    "test_fish_id = get_random_test_fish_id(df)\n",
    "train_data, test_data = train_smote_and_test_by_test_fish_id(df, test_fish_id)\n",
    "\n",
    "X_TRAIN = train_data.iloc[:,-N_WAVELENGTH:]\n",
    "Y_TRAIN = train_data[NAME_COLUMNS_HISTAMINE] \n",
    "\n",
    "X_TEST = test_data.iloc[:,-N_WAVELENGTH:]\n",
    "Y_TEST = test_data[NAME_COLUMNS_HISTAMINE]\n",
    "\n",
    "Y_TEST_SNV = (Y_TEST - Y_TEST.mean()) / Y_TEST.std(ddof=0)\n",
    "Y_TRAIN_SNV = (Y_TRAIN - Y_TRAIN.mean()) / Y_TRAIN.std(ddof=0)\n",
    "\n",
    "print(f'{Y_TEST_SNV.mean()} {mean(Y_TEST_SNV)} + {Y_TEST_SNV.std(ddof=0)}')\n",
    "print(f'{Y_TRAIN_SNV.mean()} {mean(Y_TRAIN_SNV)} + {Y_TRAIN_SNV.std(ddof=0)}')"
   ]
  },
  {
   "cell_type": "code",
   "execution_count": 88,
   "metadata": {},
   "outputs": [
    {
     "name": "stdout",
     "output_type": "stream",
     "text": [
      "0.375 + 0.4841229182759271\n",
      "565.5795991410251 + 849.8900612945317\n"
     ]
    }
   ],
   "source": [
    "print(f'{Y_TRAIN.mean()} + {Y_TRAIN.std(ddof=0)}')\n",
    "print(f'{Y_TEST.mean()} + {Y_TEST.std(ddof=0)}')"
   ]
  },
  {
   "cell_type": "code",
   "execution_count": 86,
   "metadata": {},
   "outputs": [
    {
     "name": "stdout",
     "output_type": "stream",
     "text": [
      "7680\n",
      "1795\n"
     ]
    }
   ],
   "source": [
    "print(len(Y_TRAIN))\n",
    "print(len(Y_TEST))"
   ]
  },
  {
   "attachments": {},
   "cell_type": "markdown",
   "metadata": {},
   "source": [
    "# PLSR"
   ]
  },
  {
   "cell_type": "code",
   "execution_count": 65,
   "metadata": {},
   "outputs": [
    {
     "name": "stdout",
     "output_type": "stream",
     "text": [
      "0.24269603190916278 29\n"
     ]
    }
   ],
   "source": [
    "best_nc = 0\n",
    "max_r2 = -1\n",
    "\n",
    "for nc in range(3,30):\n",
    "    pls = PLSRegression(n_components=nc)\n",
    "    pls.fit(X_TRAIN, Y_TRAIN_SNV)\n",
    "    y_pred = pls.predict(X_TEST)\n",
    "    r2 = metrics.r2_score(Y_TEST_SNV, y_pred)\n",
    "    if r2 > max_r2:\n",
    "        max_r2 = r2\n",
    "        best_nc = nc\n",
    "\n",
    "print(max_r2, best_nc)"
   ]
  },
  {
   "cell_type": "code",
   "execution_count": 66,
   "metadata": {},
   "outputs": [
    {
     "data": {
      "text/plain": [
       "(0.7573039680908372, 0.24269603190916278)"
      ]
     },
     "execution_count": 66,
     "metadata": {},
     "output_type": "execute_result"
    }
   ],
   "source": [
    "pls = PLSRegression(n_components=best_nc)\n",
    "pls.fit(X_TRAIN, Y_TRAIN_SNV)\n",
    "y_pred = pls.predict(X_TEST)\n",
    "mse = metrics.mean_squared_error(Y_TEST_SNV, y_pred)\n",
    "r2 = metrics.r2_score(Y_TEST_SNV, y_pred)\n",
    "mse, r2"
   ]
  },
  {
   "cell_type": "code",
   "execution_count": 67,
   "metadata": {},
   "outputs": [],
   "source": [
    "def my_plsr(X_train, y_train, X_test, y_test):\n",
    "    pls = PLSRegression(n_components=best_nc)\n",
    "    pls.fit(X_train, y_train)\n",
    "    y_pred = pls.predict(X_test)\n",
    "    mse = metrics.mean_squared_error(y_true=y_test, y_pred=y_pred)\n",
    "    r2 = metrics.r2_score(y_true=y_test, y_pred=y_pred, force_finite=False)\n",
    "    return mse, r2"
   ]
  },
  {
   "cell_type": "code",
   "execution_count": 83,
   "metadata": {},
   "outputs": [
    {
     "name": "stdout",
     "output_type": "stream",
     "text": [
      "1.2323864113196974 -0.2323864113196974\n",
      "0.7339693873753117 0.2660306126246883\n",
      "0.6928300947499746 0.3071699052500254\n",
      "0.7590778875295024 0.24092211247049755\n",
      "0.783406797183954 0.216593202816046\n",
      "0.7300393938769671 0.26996060612303285\n",
      "0.6930168262471474 0.30698317375285256\n",
      "0.7522937371647841 0.2477062628352159\n",
      "0.7862449414748668 0.2137550585251332\n",
      "0.7337507403674899 0.2662492596325101\n",
      "0.6981069559602888 0.3018930440397112\n",
      "0.7525415043182138 0.24745849568178624\n",
      "0.7911648569182395 0.20883514308176054\n",
      "0.7346035299757925 0.2653964700242075\n",
      "0.6961206881445267 0.30387931185547334\n",
      "0.7539796843532863 0.24602031564671367\n"
     ]
    }
   ],
   "source": [
    "all_feature_exaction = ['sg0', 'sg1', 'sg2', 'sg1 + sg2']\n",
    "all_normalization = ['msc','snv', 'minmax', 'robust']\n",
    "\n",
    "list_msc = []    \n",
    "list_r2 = []  \n",
    "for feature in all_feature_exaction:\n",
    "    for normal in all_normalization:\n",
    "\n",
    "        X_train = my_preprocess_data(X_TRAIN, feature=feature, normalization=normal)\n",
    "        X_test = my_preprocess_data(X_TEST, feature=feature, normalization=normal)\n",
    "        \n",
    "        mse, r2 = my_plsr(X_train, Y_TRAIN_SNV, X_test, Y_TEST_SNV)\n",
    "        list_msc.append(mse)\n",
    "        list_r2.append(r2)\n",
    "        print(mse, r2)"
   ]
  },
  {
   "cell_type": "code",
   "execution_count": 84,
   "metadata": {},
   "outputs": [
    {
     "name": "stdout",
     "output_type": "stream",
     "text": [
      "0.6928300947499746 2 0.3071699052500254 2\n"
     ]
    }
   ],
   "source": [
    "print(min(list_msc), np.argmin(list_msc), max(list_r2), np.argmax(list_r2))"
   ]
  },
  {
   "attachments": {},
   "cell_type": "markdown",
   "metadata": {},
   "source": [
    "# Cross validation"
   ]
  },
  {
   "cell_type": "code",
   "execution_count": 32,
   "metadata": {},
   "outputs": [],
   "source": [
    "from sklearn.model_selection import StratifiedKFold\n",
    "K_FOLD = 5\n",
    "skf = StratifiedKFold(n_splits=K_FOLD, shuffle=True, random_state=1)\n",
    "TEST_SIZE = 0.2\n",
    "\n",
    "fish_numbers = df['STT mẫu cá'].unique()\n",
    "\n",
    "ure_value = []\n",
    "for number in fish_numbers:\n",
    "    sub_df = df[df['STT mẫu cá'] == number]\n",
    "    # print(stt, sub_df['Urea'].value_counts())\n",
    "    ure_value.append(sub_df[NAME_COLUMNS_HISTAMINE].iloc[1])\n",
    "    \n",
    "y_labels = np.where(np.array(ure_value) >= LOD_HISTAMINE, 1, 0)"
   ]
  },
  {
   "cell_type": "code",
   "execution_count": 34,
   "metadata": {},
   "outputs": [
    {
     "name": "stdout",
     "output_type": "stream",
     "text": [
      "Lần: 1,Vị trí : Ngoài da, gáy, MSE : 0.9173938879757056  ==>  R2: 0.08260611202429458\n",
      "Lần: 1,Vị trí : Ngoài da, lưng, MSE : 0.5708594479932548  ==>  R2: 0.4291405520067453\n",
      "Lần: 1,Vị trí : Ngoài da, đuôi, MSE : 0.5464911040142181  ==>  R2: 0.45350889598578203\n",
      "Lần: 1,Vị trí : Ngoài da, bụng, MSE : 0.6371230638501084  ==>  R2: 0.3628769361498917\n",
      "Lần: 1,Vị trí : Mang 1, MSE : 0.7703188420120222  ==>  R2: 0.22968115798797795\n",
      "Lần: 1,Vị trí : Mang 2, MSE : 0.7283467131409036  ==>  R2: 0.2716532868590965\n",
      "Lần: 1,Vị trí : Mắt 1, MSE : 0.7148112744144555  ==>  R2: 0.28518872558554464\n",
      "Lần: 1,Vị trí : Mắt 2, MSE : 0.8750979540951189  ==>  R2: 0.1249020459048813\n",
      "Lần: 1,Vị trí : Trong thịt, gáy, MSE : 0.8355555443587699  ==>  R2: 0.16444445564123022\n",
      "Lần: 1,Vị trí : Trong thịt, lưng, MSE : 0.8113403914025102  ==>  R2: 0.18865960859748987\n",
      "Lần: 1,Vị trí : Trong thịt, đuôi, MSE : 0.828842434924699  ==>  R2: 0.17115756507530122\n",
      "Lần: 1,Vị trí : Trong thịt, bụng, MSE : 0.8135105059539669  ==>  R2: 0.18648949404603332\n",
      "==============================\n",
      "Lần: 2,Vị trí : Ngoài da, gáy, MSE : 0.6960104943605345  ==>  R2: 0.3039895056394655\n",
      "Lần: 2,Vị trí : Ngoài da, lưng, MSE : 0.6876501474419292  ==>  R2: 0.3123498525580708\n",
      "Lần: 2,Vị trí : Ngoài da, đuôi, MSE : 0.7627400741189596  ==>  R2: 0.2372599258810404\n",
      "Lần: 2,Vị trí : Ngoài da, bụng, MSE : 0.8313001061299623  ==>  R2: 0.1686998938700377\n",
      "Lần: 2,Vị trí : Mang 1, MSE : 0.775281274048479  ==>  R2: 0.22471872595152098\n",
      "Lần: 2,Vị trí : Mang 2, MSE : 0.8563698077669551  ==>  R2: 0.14363019223304485\n",
      "Lần: 2,Vị trí : Mắt 1, MSE : 0.8643386360866192  ==>  R2: 0.1356613639133808\n",
      "Lần: 2,Vị trí : Mắt 2, MSE : 0.8382420649723894  ==>  R2: 0.1617579350276106\n",
      "Lần: 2,Vị trí : Trong thịt, gáy, MSE : 0.8845394289482096  ==>  R2: 0.11546057105179042\n",
      "Lần: 2,Vị trí : Trong thịt, lưng, MSE : 0.793330654196056  ==>  R2: 0.20666934580394403\n",
      "Lần: 2,Vị trí : Trong thịt, đuôi, MSE : 0.785026835176296  ==>  R2: 0.214973164823704\n",
      "Lần: 2,Vị trí : Trong thịt, bụng, MSE : 0.8076354973951275  ==>  R2: 0.19236450260487248\n",
      "==============================\n",
      "Lần: 3,Vị trí : Ngoài da, gáy, MSE : 0.805028393333627  ==>  R2: 0.19497160666637303\n",
      "Lần: 3,Vị trí : Ngoài da, lưng, MSE : 0.6342393852873754  ==>  R2: 0.36576061471262455\n",
      "Lần: 3,Vị trí : Ngoài da, đuôi, MSE : 0.5942122502728914  ==>  R2: 0.4057877497271086\n",
      "Lần: 3,Vị trí : Ngoài da, bụng, MSE : 0.7365272681989585  ==>  R2: 0.26347273180104147\n",
      "Lần: 3,Vị trí : Mang 1, MSE : 0.8165122836890923  ==>  R2: 0.18348771631090766\n",
      "Lần: 3,Vị trí : Mang 2, MSE : 0.7528946687124597  ==>  R2: 0.2471053312875403\n",
      "Lần: 3,Vị trí : Mắt 1, MSE : 0.6495180583894276  ==>  R2: 0.35048194161057245\n",
      "Lần: 3,Vị trí : Mắt 2, MSE : 0.9384080270750463  ==>  R2: 0.061591972924953664\n",
      "Lần: 3,Vị trí : Trong thịt, gáy, MSE : 0.8044921647400152  ==>  R2: 0.19550783525998483\n",
      "Lần: 3,Vị trí : Trong thịt, lưng, MSE : 0.8457246137432671  ==>  R2: 0.15427538625673287\n",
      "Lần: 3,Vị trí : Trong thịt, đuôi, MSE : 0.8192688347691787  ==>  R2: 0.18073116523082133\n",
      "Lần: 3,Vị trí : Trong thịt, bụng, MSE : 0.8227037399635087  ==>  R2: 0.17729626003649135\n",
      "==============================\n",
      "Lần: 4,Vị trí : Ngoài da, gáy, MSE : 0.6492627445420215  ==>  R2: 0.35073725545797874\n",
      "Lần: 4,Vị trí : Ngoài da, lưng, MSE : 0.685552619229086  ==>  R2: 0.3144473807709143\n",
      "Lần: 4,Vị trí : Ngoài da, đuôi, MSE : 0.6849400260522108  ==>  R2: 0.3150599739477894\n",
      "Lần: 4,Vị trí : Ngoài da, bụng, MSE : 0.8698466131423682  ==>  R2: 0.13015338685763211\n",
      "Lần: 4,Vị trí : Mang 1, MSE : 0.8642709853651317  ==>  R2: 0.13572901463486853\n",
      "Lần: 4,Vị trí : Mang 2, MSE : 0.8144761144646656  ==>  R2: 0.1855238855353346\n",
      "Lần: 4,Vị trí : Mắt 1, MSE : 0.8960001493576999  ==>  R2: 0.10399985064230033\n",
      "Lần: 4,Vị trí : Mắt 2, MSE : 1.0024713519662118  ==>  R2: -0.002471351966211399\n",
      "Lần: 4,Vị trí : Trong thịt, gáy, MSE : 0.8721317727405863  ==>  R2: 0.12786822725941405\n",
      "Lần: 4,Vị trí : Trong thịt, lưng, MSE : 0.8661644024300864  ==>  R2: 0.13383559756991392\n",
      "Lần: 4,Vị trí : Trong thịt, đuôi, MSE : 0.916291673455292  ==>  R2: 0.08370832654470828\n",
      "Lần: 4,Vị trí : Trong thịt, bụng, MSE : 0.9253581341336549  ==>  R2: 0.07464186586634547\n",
      "==============================\n",
      "Lần: 5,Vị trí : Ngoài da, gáy, MSE : 0.675212121044393  ==>  R2: 0.324787878955607\n",
      "Lần: 5,Vị trí : Ngoài da, lưng, MSE : 0.5745570705064367  ==>  R2: 0.4254429294935633\n",
      "Lần: 5,Vị trí : Ngoài da, đuôi, MSE : 0.5934557873912207  ==>  R2: 0.40654421260877927\n",
      "Lần: 5,Vị trí : Ngoài da, bụng, MSE : 0.728580584232173  ==>  R2: 0.271419415767827\n",
      "Lần: 5,Vị trí : Mang 1, MSE : 0.8202839493254226  ==>  R2: 0.1797160506745774\n",
      "Lần: 5,Vị trí : Mang 2, MSE : 0.7633737325757208  ==>  R2: 0.23662626742427917\n",
      "Lần: 5,Vị trí : Mắt 1, MSE : 0.7423214299340036  ==>  R2: 0.25767857006599637\n",
      "Lần: 5,Vị trí : Mắt 2, MSE : 0.8464544122664174  ==>  R2: 0.15354558773358262\n",
      "Lần: 5,Vị trí : Trong thịt, gáy, MSE : 0.7312056402553422  ==>  R2: 0.2687943597446578\n",
      "Lần: 5,Vị trí : Trong thịt, lưng, MSE : 0.7128541675242387  ==>  R2: 0.2871458324757613\n",
      "Lần: 5,Vị trí : Trong thịt, đuôi, MSE : 0.7146451761931613  ==>  R2: 0.28535482380683874\n",
      "Lần: 5,Vị trí : Trong thịt, bụng, MSE : 0.7441188025775759  ==>  R2: 0.2558811974224241\n",
      "==============================\n"
     ]
    }
   ],
   "source": [
    "result_cv_position = {}\n",
    "\n",
    "for times, (train_index, test_index) in enumerate(skf.split(ure_value, y_labels)):\n",
    "    mse_each_position = []\n",
    "    r2_each_position = []\n",
    "    \n",
    "    test_fish_id = fish_numbers[test_index]\n",
    "    train_data, test_data = train_smote_and_test_by_test_fish_id(df, test_fish_id)\n",
    "    x_train = train_data.iloc[:,-N_WAVELENGTH:]\n",
    "    y_train = train_data[NAME_COLUMNS_HISTAMINE]\n",
    "    \n",
    "    for position in list(test_data['Vị trí đo'].unique()):\n",
    "        sub_data_TEST = test_data[test_data['Vị trí đo'] == position]\n",
    "        sub_X_TEST = sub_data_TEST.iloc[:, -N_WAVELENGTH:]\n",
    "        sub_Y_TEST = sub_data_TEST[NAME_COLUMNS_HISTAMINE]\n",
    "   \n",
    "        X_train_pred = my_preprocess_data(x_train, feature='sg0', normalization='minmax')\n",
    "        sub_X_test_pred = my_preprocess_data(sub_X_TEST, feature='sg0', normalization='minmax')\n",
    "        \n",
    "        y_train_prep = (y_train - y_train.mean()) / y_train.std(ddof=0)\n",
    "        sub_y_test_prep = (sub_Y_TEST - sub_Y_TEST.mean()) / sub_Y_TEST.std(ddof=0)\n",
    "        \n",
    "        mse, r2 = my_plsr(X_train_pred, y_train_prep, sub_X_test_pred, sub_y_test_prep)\n",
    "        \n",
    "        print(f'Lần: {times+1},Vị trí : {position}, MSE : {mse}  ==>  R2: {r2}') \n",
    "        mse_each_position.append(mse)\n",
    "        r2_each_position.append(r2)\n",
    "        \n",
    "    result_cv_position[times] = (mse_each_position, r2_each_position)\n",
    "    print('='*30)"
   ]
  },
  {
   "cell_type": "code",
   "execution_count": 35,
   "metadata": {},
   "outputs": [
    {
     "name": "stdout",
     "output_type": "stream",
     "text": [
      "Vị trí : Ngoài da, gáy  ==>  mse trung binh: 0.749, r2 trung binh: 0.251\n",
      "Vị trí : Ngoài da, lưng  ==>  mse trung binh: 0.631, r2 trung binh: 0.369\n",
      "Vị trí : Ngoài da, đuôi  ==>  mse trung binh: 0.636, r2 trung binh: 0.364\n",
      "Vị trí : Ngoài da, bụng  ==>  mse trung binh: 0.761, r2 trung binh: 0.239\n",
      "Vị trí : Mang 1  ==>  mse trung binh: 0.809, r2 trung binh: 0.191\n",
      "Vị trí : Mang 2  ==>  mse trung binh: 0.783, r2 trung binh: 0.217\n",
      "Vị trí : Mắt 1  ==>  mse trung binh: 0.773, r2 trung binh: 0.227\n",
      "Vị trí : Mắt 2  ==>  mse trung binh: 0.900, r2 trung binh: 0.100\n",
      "Vị trí : Trong thịt, gáy  ==>  mse trung binh: 0.826, r2 trung binh: 0.174\n",
      "Vị trí : Trong thịt, lưng  ==>  mse trung binh: 0.806, r2 trung binh: 0.194\n",
      "Vị trí : Trong thịt, đuôi  ==>  mse trung binh: 0.813, r2 trung binh: 0.187\n",
      "Vị trí : Trong thịt, bụng  ==>  mse trung binh: 0.823, r2 trung binh: 0.177\n"
     ]
    }
   ],
   "source": [
    "for i, position in enumerate(list(df['Vị trí đo'].unique())):\n",
    "    sub_list_mse = []\n",
    "    for j in range(K_FOLD):\n",
    "        mse = result_cv_position[j][0][i]\n",
    "        sub_list_mse.append(mse)\n",
    "        \n",
    "    sub_list_r2 = []\n",
    "    for j in range(K_FOLD):\n",
    "        r2 = result_cv_position[j][1][i]\n",
    "        sub_list_r2.append(r2)\n",
    "    print('Vị trí : {}  ==>  mse trung binh: {:.3f}, r2 trung binh: {:.3f}'.format(position, np.mean(sub_list_mse), np.mean(sub_list_r2)))"
   ]
  },
  {
   "attachments": {},
   "cell_type": "markdown",
   "metadata": {},
   "source": [
    "====================================="
   ]
  },
  {
   "cell_type": "code",
   "execution_count": 83,
   "metadata": {},
   "outputs": [
    {
     "name": "stdout",
     "output_type": "stream",
     "text": [
      "Lần: 1,Vị trí : Ngoài da, gáy, MSE : 0.4160619089504217  ==>  R2: 0.12907471463666542\n",
      "Lần: 1,Vị trí : Ngoài da, lưng, MSE : 0.39838649835411577  ==>  R2: 0.16607392481751448\n",
      "Lần: 1,Vị trí : Ngoài da, đuôi, MSE : 0.3657442474852368  ==>  R2: 0.23440260629810528\n",
      "Lần: 1,Vị trí : Ngoài da, bụng, MSE : 0.3913263967691  ==>  R2: 0.1808525451510491\n",
      "Lần: 1,Vị trí : Mang 1, MSE : 0.4864027353961197  ==>  R2: -0.018166844917425484\n",
      "Lần: 1,Vị trí : Mang 2, MSE : 0.49082260839063113  ==>  R2: -0.02741878330977965\n",
      "Lần: 1,Vị trí : Mắt 1, MSE : 0.5508234266560117  ==>  R2: -0.15301602892554467\n",
      "Lần: 1,Vị trí : Mắt 2, MSE : 0.5053259099499101  ==>  R2: -0.05777794808189207\n",
      "Lần: 1,Vị trí : Trong thịt, gáy, MSE : 0.4734594593721632  ==>  R2: 0.008926782550509715\n",
      "Lần: 1,Vị trí : Trong thịt, lưng, MSE : 0.5079396873723435  ==>  R2: -0.038007701831097584\n",
      "Lần: 1,Vị trí : Trong thịt, đuôi, MSE : 0.44534190183146044  ==>  R2: 0.08991493371869519\n",
      "Lần: 1,Vị trí : Trong thịt, bụng, MSE : 0.4729255739702655  ==>  R2: 0.03354591031557819\n",
      "==============================\n",
      "Lần: 2,Vị trí : Ngoài da, gáy, MSE : 0.46380654966254664  ==>  R2: -0.10913724913804956\n",
      "Lần: 2,Vị trí : Ngoài da, lưng, MSE : 0.47087669739708854  ==>  R2: -0.12604465205203352\n",
      "Lần: 2,Vị trí : Ngoài da, đuôi, MSE : 0.4758280608298256  ==>  R2: -0.13788523865277114\n",
      "Lần: 2,Vị trí : Ngoài da, bụng, MSE : 0.4793982365899719  ==>  R2: -0.14642288203971554\n",
      "Lần: 2,Vị trí : Mang 1, MSE : 0.5493738839910794  ==>  R2: -0.31376117668343606\n",
      "Lần: 2,Vị trí : Mang 2, MSE : 0.47237800431158317  ==>  R2: -0.12963484590002028\n",
      "Lần: 2,Vị trí : Mắt 1, MSE : 0.643466387069104  ==>  R2: -0.538772013862006\n",
      "Lần: 2,Vị trí : Mắt 2, MSE : 0.41026885804557117  ==>  R2: 0.01889166302038625\n",
      "Lần: 2,Vị trí : Trong thịt, gáy, MSE : 0.4655424873172007  ==>  R2: -0.11328853401395111\n",
      "Lần: 2,Vị trí : Trong thịt, lưng, MSE : 0.44837967074917834  ==>  R2: -0.07224573466243833\n",
      "Lần: 2,Vị trí : Trong thịt, đuôi, MSE : 0.4703314444942665  ==>  R2: -0.12474074570323235\n",
      "Lần: 2,Vị trí : Trong thịt, bụng, MSE : 0.481037830175859  ==>  R2: -0.15034377173150282\n",
      "==============================\n",
      "Lần: 3,Vị trí : Ngoài da, gáy, MSE : 0.5059872231655219  ==>  R2: 0.09668781902979406\n",
      "Lần: 3,Vị trí : Ngoài da, lưng, MSE : 0.5579059744378395  ==>  R2: 0.004000023176686129\n",
      "Lần: 3,Vị trí : Ngoài da, đuôi, MSE : 0.5002459653057674  ==>  R2: 0.10693738249972107\n",
      "Lần: 3,Vị trí : Ngoài da, bụng, MSE : 0.40994019553247735  ==>  R2: 0.2681554886364028\n",
      "Lần: 3,Vị trí : Mang 1, MSE : 0.5158098195889588  ==>  R2: 0.07915205806228376\n",
      "Lần: 3,Vị trí : Mang 2, MSE : 0.6122731239849989  ==>  R2: -0.09305876839385241\n",
      "Lần: 3,Vị trí : Mắt 1, MSE : 0.5924426635130449  ==>  R2: -0.05765649798374661\n",
      "Lần: 3,Vị trí : Mắt 2, MSE : 0.5925873967658671  ==>  R2: -0.06016935614621999\n",
      "Lần: 3,Vị trí : Trong thịt, gáy, MSE : 0.5482352122597935  ==>  R2: 0.023300791590455838\n",
      "Lần: 3,Vị trí : Trong thịt, lưng, MSE : 0.5613753355127726  ==>  R2: -0.0021936433344260653\n",
      "Lần: 3,Vị trí : Trong thịt, đuôi, MSE : 0.5398875230684023  ==>  R2: 0.0361674097411242\n",
      "Lần: 3,Vị trí : Trong thịt, bụng, MSE : 0.5394415534655741  ==>  R2: 0.036963575644399005\n",
      "==============================\n",
      "Lần: 4,Vị trí : Ngoài da, gáy, MSE : 0.37120983045197375  ==>  R2: -0.12394930171470153\n",
      "Lần: 4,Vị trí : Ngoài da, lưng, MSE : 0.23829842194371176  ==>  R2: 0.2784799243671915\n",
      "Lần: 4,Vị trí : Ngoài da, đuôi, MSE : 0.23540194252592314  ==>  R2: 0.28724988613003255\n",
      "Lần: 4,Vị trí : Ngoài da, bụng, MSE : 0.23542534377743232  ==>  R2: 0.2871790318095503\n",
      "Lần: 4,Vị trí : Mang 1, MSE : 0.35157147949780526  ==>  R2: -0.06448829332790562\n",
      "Lần: 4,Vị trí : Mang 2, MSE : 0.3414898412251324  ==>  R2: -0.033963104156825796\n",
      "Lần: 4,Vị trí : Mắt 1, MSE : 0.3948583822112511  ==>  R2: -0.1955523980121272\n",
      "Lần: 4,Vị trí : Mắt 2, MSE : 0.3852407390911428  ==>  R2: -0.16643209358531474\n",
      "Lần: 4,Vị trí : Trong thịt, gáy, MSE : 0.3224493945873542  ==>  R2: 0.001798066018597444\n",
      "Lần: 4,Vị trí : Trong thịt, lưng, MSE : 0.2904036934490681  ==>  R2: 0.12071555844833959\n",
      "Lần: 4,Vị trí : Trong thịt, đuôi, MSE : 0.32444836782639813  ==>  R2: 0.012135533224376216\n",
      "Lần: 4,Vị trí : Trong thịt, bụng, MSE : 0.3101947658658894  ==>  R2: 0.060792139944073065\n",
      "==============================\n",
      "Lần: 5,Vị trí : Ngoài da, gáy, MSE : 0.22398337770368418  ==>  R2: 0.3608191137557003\n",
      "Lần: 5,Vị trí : Ngoài da, lưng, MSE : 0.22357036589326193  ==>  R2: 0.36199772467639235\n",
      "Lần: 5,Vị trí : Ngoài da, đuôi, MSE : 0.2155296493865483  ==>  R2: 0.3849435001865714\n",
      "Lần: 5,Vị trí : Ngoài da, bụng, MSE : 0.21714795021952296  ==>  R2: 0.3803253585582268\n",
      "Lần: 5,Vị trí : Mang 1, MSE : 0.2758302053031363  ==>  R2: 0.21286393264482928\n",
      "Lần: 5,Vị trí : Mang 2, MSE : 0.2842800167082882  ==>  R2: 0.1887507238973155\n",
      "Lần: 5,Vị trí : Mắt 1, MSE : 0.31489383886047173  ==>  R2: 0.1013881250510521\n",
      "Lần: 5,Vị trí : Mắt 2, MSE : 0.42070298933878436  ==>  R2: -0.20055922152819328\n",
      "Lần: 5,Vị trí : Trong thịt, gáy, MSE : 0.3261720477413116  ==>  R2: 0.06920352447216294\n",
      "Lần: 5,Vị trí : Trong thịt, lưng, MSE : 0.3160409050587116  ==>  R2: 0.09811474469270343\n",
      "Lần: 5,Vị trí : Trong thịt, đuôi, MSE : 0.29786116642693006  ==>  R2: 0.14999422597155332\n",
      "Lần: 5,Vị trí : Trong thịt, bụng, MSE : 0.2827773958798625  ==>  R2: 0.193038749743916\n",
      "==============================\n"
     ]
    }
   ],
   "source": [
    "result_cv_position2 = {}\n",
    "\n",
    "for times, (train_index, test_index) in enumerate(skf.split(ure_value, y_labels)):\n",
    "    mse_each_position = []\n",
    "    r2_each_position = []\n",
    "    \n",
    "    test_fish_id = fish_numbers[test_index]\n",
    "    train_data, test_data = train_smote_and_test_by_test_fish_id(df, test_fish_id)\n",
    "    x_train = train_data.iloc[:,-N_WAVELENGTH:]\n",
    "    y_train = np.log10(train_data['Urea'])\n",
    "    \n",
    "    for position in list(test_data['Vị trí đo'].unique()):\n",
    "        sub_data_TEST = test_data[test_data['Vị trí đo'] == position]\n",
    "        sub_X_TEST = sub_data_TEST.iloc[:, -N_WAVELENGTH:]\n",
    "        sub_Y_TEST = np.log10(sub_data_TEST['Urea'])\n",
    "   \n",
    "        X_train_pred = my_preprocess_data(x_train, feature='sg0', normalization='minmax')\n",
    "        sub_X_test_pred = my_preprocess_data(sub_X_TEST, feature='sg0', normalization='minmax')\n",
    "        \n",
    "        \n",
    "        mse, r2 = my_plsr(X_train_pred, y_train, sub_X_test_pred, sub_Y_TEST)\n",
    "        \n",
    "        print(f'Lần: {times+1},Vị trí : {position}, MSE : {mse}  ==>  R2: {r2}') \n",
    "        mse_each_position.append(mse)\n",
    "        r2_each_position.append(r2)\n",
    "        \n",
    "    result_cv_position2[times] = (mse_each_position, r2_each_position)\n",
    "    print('='*30)"
   ]
  },
  {
   "cell_type": "code",
   "execution_count": 84,
   "metadata": {},
   "outputs": [
    {
     "name": "stdout",
     "output_type": "stream",
     "text": [
      "Vị trí : Ngoài da, gáy  ==>  mse trung binh: 0.396, r2 trung binh: 0.071\n",
      "Vị trí : Ngoài da, lưng  ==>  mse trung binh: 0.378, r2 trung binh: 0.137\n",
      "Vị trí : Ngoài da, đuôi  ==>  mse trung binh: 0.359, r2 trung binh: 0.175\n",
      "Vị trí : Ngoài da, bụng  ==>  mse trung binh: 0.347, r2 trung binh: 0.194\n",
      "Vị trí : Mang 1  ==>  mse trung binh: 0.436, r2 trung binh: -0.021\n",
      "Vị trí : Mang 2  ==>  mse trung binh: 0.440, r2 trung binh: -0.019\n",
      "Vị trí : Mắt 1  ==>  mse trung binh: 0.499, r2 trung binh: -0.169\n",
      "Vị trí : Mắt 2  ==>  mse trung binh: 0.463, r2 trung binh: -0.093\n",
      "Vị trí : Trong thịt, gáy  ==>  mse trung binh: 0.427, r2 trung binh: -0.002\n",
      "Vị trí : Trong thịt, lưng  ==>  mse trung binh: 0.425, r2 trung binh: 0.021\n",
      "Vị trí : Trong thịt, đuôi  ==>  mse trung binh: 0.416, r2 trung binh: 0.033\n",
      "Vị trí : Trong thịt, bụng  ==>  mse trung binh: 0.417, r2 trung binh: 0.035\n"
     ]
    }
   ],
   "source": [
    "for i, position in enumerate(list(df['Vị trí đo'].unique())):\n",
    "    sub_list_mse = []\n",
    "    for j in range(K_FOLD):\n",
    "        mse = result_cv_position2[j][0][i]\n",
    "        sub_list_mse.append(mse)\n",
    "        \n",
    "    sub_list_r2 = []\n",
    "    for j in range(K_FOLD):\n",
    "        r2 = result_cv_position2[j][1][i]\n",
    "        sub_list_r2.append(r2)\n",
    "    print('Vị trí : {}  ==>  mse trung binh: {:.3f}, r2 trung binh: {:.3f}'.format(position, np.mean(sub_list_mse), np.mean(sub_list_r2)))"
   ]
  }
 ],
 "metadata": {
  "kernelspec": {
   "display_name": "Python 3",
   "language": "python",
   "name": "python3"
  },
  "language_info": {
   "codemirror_mode": {
    "name": "ipython",
    "version": 3
   },
   "file_extension": ".py",
   "mimetype": "text/x-python",
   "name": "python",
   "nbconvert_exporter": "python",
   "pygments_lexer": "ipython3",
   "version": "3.11.3"
  },
  "orig_nbformat": 4
 },
 "nbformat": 4,
 "nbformat_minor": 2
}
